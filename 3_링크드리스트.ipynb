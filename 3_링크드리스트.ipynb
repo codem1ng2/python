{
  "nbformat": 4,
  "nbformat_minor": 0,
  "metadata": {
    "colab": {
      "provenance": [],
      "include_colab_link": true
    },
    "kernelspec": {
      "name": "python3",
      "display_name": "Python 3"
    },
    "language_info": {
      "name": "python"
    }
  },
  "cells": [
    {
      "cell_type": "markdown",
      "metadata": {
        "id": "view-in-github",
        "colab_type": "text"
      },
      "source": [
        "<a href=\"https://colab.research.google.com/github/codem1ng2/python/blob/main/3_%E1%84%85%E1%85%B5%E1%86%BC%E1%84%8F%E1%85%B3%E1%84%83%E1%85%B3%E1%84%85%E1%85%B5%E1%84%89%E1%85%B3%E1%84%90%E1%85%B3.ipynb\" target=\"_parent\"><img src=\"https://colab.research.google.com/assets/colab-badge.svg\" alt=\"Open In Colab\"/></a>"
      ]
    },
    {
      "cell_type": "markdown",
      "source": [
        "# **1. 링크드리스트**\n",
        "* 떨어진 곳에 존재하는 데이터를 화살표로 연결하여 관리하는 구조\n",
        "* c언어에서는 중요한 자료구조지만, 파이썬에서는 리스트 타입이 링크드리스트 역할도 이미 지원함\n",
        "* 데이터의 삽입과 삭제가 매우 빠름"
      ],
      "metadata": {
        "id": "60_LcnCTDcP_"
      }
    },
    {
      "cell_type": "markdown",
      "source": [
        "### 1-1. 링크드리스트 용어\n",
        "* 노드(node): 데이터 저장 단위(데이터, 포인터)로 구성\n",
        "* 포인터(pointer): 각 노드 안에서 다음이나 이전의 노드와의 연결정보를 가지고 있는 공간"
      ],
      "metadata": {
        "id": "t2LD2QM0Erlx"
      }
    },
    {
      "cell_type": "code",
      "source": [
        "# 링크드리스트 구현\n",
        "# 파이썬에서는 링크드리스트를 구현할 때 클래스를 주로 활용\n",
        "\n",
        "class Node:\n",
        "    def __init__(self, data):\n",
        "        self.data = data\n",
        "        self.next = None"
      ],
      "metadata": {
        "id": "jPYzdsuuE5nC"
      },
      "execution_count": null,
      "outputs": []
    },
    {
      "cell_type": "code",
      "source": [
        "# Node 객체와 Node 객체를 연결하기(포인터 활용)\n",
        "node1 = Node(1)"
      ],
      "metadata": {
        "id": "bklTXD-fFhDI"
      },
      "execution_count": null,
      "outputs": []
    },
    {
      "cell_type": "code",
      "source": [
        "node2 = Node(2)"
      ],
      "metadata": {
        "id": "pvL99sVAFxFT"
      },
      "execution_count": null,
      "outputs": []
    },
    {
      "cell_type": "code",
      "source": [
        "print(node1)\n",
        "print(node2)"
      ],
      "metadata": {
        "colab": {
          "base_uri": "https://localhost:8080/"
        },
        "id": "aAF5Qw-QFzon",
        "outputId": "f665dabb-5bca-4df1-9e56-22a1a4bc74d9"
      },
      "execution_count": null,
      "outputs": [
        {
          "output_type": "stream",
          "name": "stdout",
          "text": [
            "<__main__.Node object at 0x7f65305771c0>\n",
            "<__main__.Node object at 0x7f6530574df0>\n"
          ]
        }
      ]
    },
    {
      "cell_type": "code",
      "source": [
        "node1.next = node2"
      ],
      "metadata": {
        "id": "xZ5Y9Eg3F2Zo"
      },
      "execution_count": null,
      "outputs": []
    },
    {
      "cell_type": "code",
      "source": [
        "head = node1"
      ],
      "metadata": {
        "id": "FOWYsuwkGDRD"
      },
      "execution_count": null,
      "outputs": []
    },
    {
      "cell_type": "code",
      "source": [
        "# 링크드리스트로 데이터 추가하기\n",
        "\n",
        "class Node:\n",
        "    def __init__(self, data):\n",
        "        self.data = data\n",
        "        self.next = None\n",
        "\n",
        "    def add(self, data):\n",
        "        node = head\n",
        "        while node.next:\n",
        "            node = node.next\n",
        "        node.next = Node(data)"
      ],
      "metadata": {
        "id": "IzRq7yMvGO3a"
      },
      "execution_count": null,
      "outputs": []
    },
    {
      "cell_type": "code",
      "source": [
        "node1 = Node(1)\n",
        "head = node1\n",
        "for index in range(2, 11):\n",
        "    node1.add(index)"
      ],
      "metadata": {
        "id": "EYPLX-kqKxgv"
      },
      "execution_count": null,
      "outputs": []
    },
    {
      "cell_type": "code",
      "source": [
        "node1"
      ],
      "metadata": {
        "colab": {
          "base_uri": "https://localhost:8080/"
        },
        "id": "xaCY9bQFK7H4",
        "outputId": "2ae96920-e6ac-452b-8288-6150b5aa6f7c"
      },
      "execution_count": null,
      "outputs": [
        {
          "output_type": "execute_result",
          "data": {
            "text/plain": [
              "<__main__.Node at 0x7f653041dc60>"
            ]
          },
          "metadata": {},
          "execution_count": 10
        }
      ]
    },
    {
      "cell_type": "code",
      "source": [
        "# 링크드리스트 데이터 출력하기\n",
        "node = head\n",
        "while node.next:\n",
        "    print(node.data)\n",
        "    node = node.next\n",
        "print(node.data)"
      ],
      "metadata": {
        "colab": {
          "base_uri": "https://localhost:8080/"
        },
        "id": "yAKUGK4zK-Pr",
        "outputId": "df0ccc93-595d-44db-f788-d409ced20b90"
      },
      "execution_count": null,
      "outputs": [
        {
          "output_type": "stream",
          "name": "stdout",
          "text": [
            "1\n",
            "2\n",
            "3\n",
            "4\n",
            "5\n",
            "6\n",
            "7\n",
            "8\n",
            "9\n",
            "10\n"
          ]
        }
      ]
    },
    {
      "cell_type": "markdown",
      "source": [
        "### 문제1\n",
        "* 현재 링크드리스트 객체에 3.5 데이터를 삽입하려고 함\n",
        "* 단, 3.5는 3과 4사이에 넣을 수 있도록 함"
      ],
      "metadata": {
        "id": "hMQvWQR3LWUf"
      }
    },
    {
      "cell_type": "code",
      "source": [
        "node2 = Node(3.5)"
      ],
      "metadata": {
        "id": "8ZFqIynwMRkq"
      },
      "execution_count": null,
      "outputs": []
    },
    {
      "cell_type": "code",
      "source": [
        "node = head\n",
        "search = False\n",
        "\n",
        "while not search:\n",
        "    if node.data == 3:\n",
        "        search = True\n",
        "    else:\n",
        "        node = node.next\n",
        "\n",
        "node_next = node.next # 3번 노드의 포인터에 저장된 4번 주소를 node_next에 넣어줌\n",
        "node.next = node2 # 3번 노드의 포인터에 3.5의 주소를 넣어줌\n",
        "node2.next = node_next # 3.5의 노드의 포인터에 4의 주소를 넣어줌"
      ],
      "metadata": {
        "id": "CjLSC4-7MXqD"
      },
      "execution_count": null,
      "outputs": []
    },
    {
      "cell_type": "code",
      "source": [
        "node = head\n",
        "while node.next:\n",
        "    print(node.data)\n",
        "    node = node.next\n",
        "print(node.data)"
      ],
      "metadata": {
        "colab": {
          "base_uri": "https://localhost:8080/"
        },
        "id": "9tDWT8Z4nYUp",
        "outputId": "878b7ae9-51a5-45bf-e0b9-fb5cab0617cd"
      },
      "execution_count": null,
      "outputs": [
        {
          "output_type": "stream",
          "name": "stdout",
          "text": [
            "1\n",
            "2\n",
            "3\n",
            "3.5\n",
            "4\n",
            "5\n",
            "6\n",
            "7\n",
            "8\n",
            "9\n",
            "10\n"
          ]
        }
      ]
    },
    {
      "cell_type": "markdown",
      "source": [
        "### 문제2\n",
        "링크드리스트를 객체지향 프로그래밍으로 구현"
      ],
      "metadata": {
        "id": "EB94M5lHniY2"
      }
    },
    {
      "cell_type": "code",
      "source": [
        "class Node:\n",
        "    def __init__(self, data, next=None):\n",
        "        self.data = data\n",
        "        self.next = next"
      ],
      "metadata": {
        "id": "1zWYia0wnztc"
      },
      "execution_count": null,
      "outputs": []
    },
    {
      "cell_type": "code",
      "source": [
        "class NodeMgmt:\n",
        "    def __init__(self, data):\n",
        "        self.head = Node(data)\n",
        "\n",
        "    def add(self, data): # 노드를 추가\n",
        "        if self.head == None:\n",
        "            self.head = Node(data)\n",
        "        else:\n",
        "            node = self.head\n",
        "            while node.next:\n",
        "                node = node.next\n",
        "            node.next = Node(data)\n",
        "\n",
        "    def node_print(self): # 모든 노드를 출력\n",
        "        node = self.head\n",
        "        while node:\n",
        "            print(node.data)\n",
        "            node = node.next\n",
        "\n",
        "    def delete(self, data):\n",
        "        # head에 노드가 없을경우\n",
        "        if self.head == None:\n",
        "            print('head에 노드가 없습니다')\n",
        "            return\n",
        "\n",
        "        # 지우려는 값이 head에 있는 경우\n",
        "        if self.head.data == data:\n",
        "            print('지우려는 값이 head에 있습니다')\n",
        "            temp = self.head\n",
        "            self.head = self.head.next\n",
        "            del temp\n",
        "\n",
        "        # 지우려는 값이 head에 없는 경우\n",
        "        else:\n",
        "            print('지우려는 값이 head에 없습니다.')\n",
        "            node = self.head\n",
        "            while node.next:\n",
        "                if node.next.data == data:\n",
        "                    temp = node.next\n",
        "                    node.next = node.next.next\n",
        "                    del temp\n",
        "                    return\n",
        "                else:\n",
        "                    node = node.next"
      ],
      "metadata": {
        "id": "AQT207QZn7DM"
      },
      "execution_count": null,
      "outputs": []
    },
    {
      "cell_type": "code",
      "source": [
        "linkedlist = NodeMgmt(0)"
      ],
      "metadata": {
        "id": "HFV2vmPRomK6"
      },
      "execution_count": null,
      "outputs": []
    },
    {
      "cell_type": "code",
      "source": [
        "linkedlist.node_print()"
      ],
      "metadata": {
        "colab": {
          "base_uri": "https://localhost:8080/"
        },
        "id": "ezcQk0lEtYg9",
        "outputId": "a392bc84-162c-4e9c-faef-e9b7011b5448"
      },
      "execution_count": null,
      "outputs": [
        {
          "output_type": "stream",
          "name": "stdout",
          "text": [
            "0\n"
          ]
        }
      ]
    },
    {
      "cell_type": "code",
      "source": [
        "for data in range(1, 11):\n",
        "    linkedlist.add(data)"
      ],
      "metadata": {
        "id": "eMsMmaYHtohv"
      },
      "execution_count": null,
      "outputs": []
    },
    {
      "cell_type": "code",
      "source": [
        "linkedlist.node_print()"
      ],
      "metadata": {
        "colab": {
          "base_uri": "https://localhost:8080/"
        },
        "id": "mmSNMfKDuYSp",
        "outputId": "f4b27e60-df6c-442a-fed6-bbfbbf048589"
      },
      "execution_count": null,
      "outputs": [
        {
          "output_type": "stream",
          "name": "stdout",
          "text": [
            "0\n",
            "1\n",
            "2\n",
            "3\n",
            "4\n",
            "5\n",
            "6\n",
            "7\n",
            "8\n",
            "9\n",
            "10\n"
          ]
        }
      ]
    },
    {
      "cell_type": "code",
      "source": [],
      "metadata": {
        "id": "iKsqHEDQuZHQ"
      },
      "execution_count": null,
      "outputs": []
    }
  ]
}