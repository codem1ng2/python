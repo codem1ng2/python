{
  "nbformat": 4,
  "nbformat_minor": 0,
  "metadata": {
    "colab": {
      "provenance": [],
      "authorship_tag": "ABX9TyPB2N1LWAfKCw6j/Q+edhaE",
      "include_colab_link": true
    },
    "kernelspec": {
      "name": "python3",
      "display_name": "Python 3"
    },
    "language_info": {
      "name": "python"
    }
  },
  "cells": [
    {
      "cell_type": "markdown",
      "metadata": {
        "id": "view-in-github",
        "colab_type": "text"
      },
      "source": [
        "<a href=\"https://colab.research.google.com/github/codem1ng2/python/blob/main/%08RPS%EA%B3%BC%EC%A0%9C.ipynb\" target=\"_parent\"><img src=\"https://colab.research.google.com/assets/colab-badge.svg\" alt=\"Open In Colab\"/></a>"
      ]
    },
    {
      "cell_type": "markdown",
      "source": [
        "### 과제1\n",
        "* 가위바위보 맹그르라\n",
        "예)\n",
        "* 가위,바위,보 중 하나를 입력하세요: -> 가위바위보 중 하나 입력\n",
        "* 출력\n",
        "    * 컴퓨터: 바위\n",
        "    * 유저: 가위\n",
        "    * 컴퓨터 승리!\n",
        "* 단, 사용자가 이길 때 까지 게임을 반복. (if, for 사용)"
      ],
      "metadata": {
        "id": "7bFgiTMllSt0"
      }
    },
    {
      "cell_type": "code",
      "source": [
        "import random\n",
        "\n",
        "class RPS:\n",
        "    def playGame(self):\n",
        "        start = input('게임한판 해볼랍니까? (y/n):')\n",
        "        while True: # 무한루프\n",
        "            rps = ['바위','보', '가위']\n",
        "            if start == 'y':\n",
        "                userFinger = input('암거나 내보슈~( 0은 바위! , 1은 보! , 2~9는 가위! )\\n')\n",
        "                if rps[int(random.random() * 3)] == '바위':\n",
        "                    if userFinger == '0':\n",
        "                        print('비김 쿠쿠루삥뽕ㅋㅋㅋ')\n",
        "                    elif userFinger == '1':\n",
        "                        print('올 쫌 치네 ㅋ')\n",
        "                        break\n",
        "                    else:\n",
        "                        print('ㅋㅋ 내가이김 ㅋㅋ 연습 더 하고오센')\n",
        "                elif rps[int(random.random()* 3)] == '보':\n",
        "                    if userFinger == '0':\n",
        "                        print('ㅋㅋ 내가이김 ㅋㅋ 연습 더 하고오센')\n",
        "                    elif userFinger == '1':\n",
        "                        print('비김 쿠쿠루삥뽕ㅋㅋㅋ')\n",
        "                    else:\n",
        "                        print('올 쫌 치네 ㅋ')\n",
        "                        break\n",
        "                else:\n",
        "                    if userFinger == '0':\n",
        "                        print('올 쫌 치네 ㅋ')\n",
        "                        break\n",
        "                    elif userFinger == '1':\n",
        "                        print('ㅋㅋ 내가이김 ㅋㅋ 연습 더 하고오센')\n",
        "                    else:\n",
        "                        print('비김 쿠쿠루삥뽕ㅋㅋㅋ')\n",
        "            elif start =='n':\n",
        "                print('에이 재미 다 봤네..')\n",
        "                break\n",
        "\n",
        "player1 = RPS()\n",
        "player1.playGame()"
      ],
      "metadata": {
        "id": "ZfDZtfZw2RLQ",
        "colab": {
          "base_uri": "https://localhost:8080/"
        },
        "outputId": "0b573c06-bd16-4b0d-eb61-6bc7fe3d6427"
      },
      "execution_count": null,
      "outputs": [
        {
          "output_type": "stream",
          "name": "stdout",
          "text": [
            "게임한판 해볼랍니까? (y/n):n\n",
            "에이 재미 다 봤네..\n"
          ]
        }
      ]
    }
  ]
}