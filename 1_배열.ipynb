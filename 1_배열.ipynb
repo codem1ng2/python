{
  "nbformat": 4,
  "nbformat_minor": 0,
  "metadata": {
    "colab": {
      "provenance": [],
      "authorship_tag": "ABX9TyMbrYBMBTnm++92t0u9PBgn",
      "include_colab_link": true
    },
    "kernelspec": {
      "name": "python3",
      "display_name": "Python 3"
    },
    "language_info": {
      "name": "python"
    }
  },
  "cells": [
    {
      "cell_type": "markdown",
      "metadata": {
        "id": "view-in-github",
        "colab_type": "text"
      },
      "source": [
        "<a href=\"https://colab.research.google.com/github/codem1ng2/python/blob/main/1_%EB%B0%B0%EC%97%B4.ipynb\" target=\"_parent\"><img src=\"https://colab.research.google.com/assets/colab-badge.svg\" alt=\"Open In Colab\"/></a>"
      ]
    },
    {
      "cell_type": "markdown",
      "source": [
        "# **1. 자료구조 (Data Structure)**\n",
        "* 대량의 데이터를 효율적으로 관리할 수 있는 데이터의 구조를 의미\n",
        "* 코드상에서 효율적으로 데이터를 처리하기 위해 데이터의 특징에 따라 체계적으로 구조화해야 함\n",
        "\n",
        "> 대표적인 자료구조는 배열, 스택, 링크드리스트, 해쉬테이블, 힙 등.."
      ],
      "metadata": {
        "id": "U7sffBwli-zc"
      }
    },
    {
      "cell_type": "markdown",
      "source": [
        "# **2. 알고리즘(algorithm)**\n",
        "* 어떤 문제를 풀기 위한 절차 및 방법\n",
        "* 어떤 문제에 대해 툭정한 \"입력\"을 넣으면 원하는 \"출력\"을 얻을 수 있도록 만드는 프로그램\n",
        "\n",
        "> 자료구조와 알고리즘이 중요한 이유는, 어떤 자료구조와 알고리즘을 사용하느냐에 따라 프로그램의 성능차이가 큼"
      ],
      "metadata": {
        "id": "SHtUb8a-jm-2"
      }
    },
    {
      "cell_type": "markdown",
      "source": [
        "# **3. 파이썬을 활용한 자료구조와 알고리즘**\n",
        "* 어떤 언어로든 자료구조와 알고리즘은 익힐 수 있음\n",
        "* 예전에는 C언어 또는 C++로 작성하는 경우가 많았음\n",
        "* 최근에는 언어로 인한 제약/평가는 없어짐\n",
        "* 가장 쉽고 빠르게 자료구조/알고리즘을 익힐 수 있는 언어 -> 파이썬"
      ],
      "metadata": {
        "id": "t7QLnkstjnCS"
      }
    },
    {
      "cell_type": "markdown",
      "source": [
        "# **4. 배열**\n",
        "* 데이터를 나열하고 각 데이터를 인덱스에 대응하도록 구성한 자료구조\n",
        "* 파이썬의 리스트 타입은 배열 기능을 제공함"
      ],
      "metadata": {
        "id": "fWzR_D-5jnFm"
      }
    },
    {
      "cell_type": "markdown",
      "source": [
        "### 1-1. 배열이 필요한 이유\n",
        "* 같은 종류의 데이터를 효율적으로 관리하기 위해 사용\n",
        "* 같은 종류의 데이터를 순차적으로 저장\n",
        "* 빠를 접근이 가능(인덱스 번호로 접근)"
      ],
      "metadata": {
        "id": "VY7h9a8ljnI8"
      }
    },
    {
      "cell_type": "markdown",
      "source": [
        "### 1-2. 배열의 단점\n",
        "* 미리 최대길이를 설정해야 함\n",
        "* 데이터의 추가 / 삭제가 어려움"
      ],
      "metadata": {
        "id": "XsBdqoiTjnMT"
      }
    },
    {
      "cell_type": "code",
      "source": [
        "# 1차원 배열 : 리스트로 구현\n",
        "arr = [1,2,3,4,5]\n",
        "print(arr)"
      ],
      "metadata": {
        "colab": {
          "base_uri": "https://localhost:8080/"
        },
        "id": "Bf6bT95SjnPr",
        "outputId": "f01c05f1-1b36-4cb2-cc6d-2dbb519c6acf"
      },
      "execution_count": null,
      "outputs": [
        {
          "output_type": "stream",
          "name": "stdout",
          "text": [
            "[1, 2, 3, 4, 5]\n"
          ]
        }
      ]
    },
    {
      "cell_type": "code",
      "source": [
        "# 2차원 배열 : 리스트로 구현\n",
        "arr = [[1,2,3], [4,5,6],[7,8,9]]\n",
        "print(arr)"
      ],
      "metadata": {
        "colab": {
          "base_uri": "https://localhost:8080/"
        },
        "id": "lJ7iU2stjnS3",
        "outputId": "9ff5e4d7-523b-43df-952f-9ef683abbef8"
      },
      "execution_count": null,
      "outputs": [
        {
          "output_type": "stream",
          "name": "stdout",
          "text": [
            "[[1, 2, 3], [4, 5, 6], [7, 8, 9]]\n"
          ]
        }
      ]
    },
    {
      "cell_type": "code",
      "source": [
        "print(arr[0])\n",
        "print(arr[0][1])"
      ],
      "metadata": {
        "colab": {
          "base_uri": "https://localhost:8080/"
        },
        "id": "XNRmM-z4jnWi",
        "outputId": "23e4c3b5-37c6-4796-dd34-5a31ff6e464c"
      },
      "execution_count": null,
      "outputs": [
        {
          "output_type": "stream",
          "name": "stdout",
          "text": [
            "[1, 2, 3]\n",
            "2\n"
          ]
        }
      ]
    },
    {
      "cell_type": "code",
      "source": [
        "# arr에서 값을 9 8 7 순서로 출력\n",
        "print(arr[2][2], arr[2][1], arr[2][0])"
      ],
      "metadata": {
        "colab": {
          "base_uri": "https://localhost:8080/"
        },
        "id": "cST47ujhjnap",
        "outputId": "6474081e-8433-4968-d6cb-29544211ac7d"
      },
      "execution_count": null,
      "outputs": [
        {
          "output_type": "stream",
          "name": "stdout",
          "text": [
            "9 8 7\n"
          ]
        }
      ]
    },
    {
      "cell_type": "markdown",
      "source": [
        "### 문제\n",
        "아래 data 배열에서 전체 이름안에 'M'이라는 알파벳이 몇 번 출현하는지 빈도수를 출력\n",
        "\n",
        "```\n",
        "data = ['Braund, Mr. Owen Harris',\n",
        "'Cumings, Mrs. John Bradley (Florence Briggs Thayer)',\n",
        "'Heikkinen, Miss. Laina',\n",
        "'Futrelle, Mrs. Jacques Heath (Lily May Peel)',\n",
        "'Allen, Mr. William Henry',\n",
        "'Moran, Mr. James',\n",
        "'McCarthy, Mr. Timothy J',\n",
        "'Palsson, Master. Gosta Leonard',\n",
        "'Johnson, Mrs. Oscar W (Elisabeth Vilhelmina Berg)',\n",
        "'Nasser, Mrs. Nicholas (Adele Achem)',\n",
        "'Sandstrom, Miss. Marguerite Rut',\n",
        "'Bonnell, Miss. Elizabeth',\n",
        "'Saundercock, Mr. William Henry',\n",
        "'Andersson, Mr. Anders Johan',\n",
        "'Vestrom, Miss. Hulda Amanda Adolfina',\n",
        "'Hewlett, Mrs. (Mary D Kingcome) ',\n",
        "'Rice, Master. Eugene',\n",
        "'Williams, Mr. Charles Eugene',\n",
        "'Vander Planke, Mrs. Julius (Emelia Maria Vandemoortele)',\n",
        "'Masselmani, Mrs. Fatima',\n",
        "'Fynney, Mr. Joseph J',\n",
        "'Beesley, Mr. Lawrence',\n",
        "'McGowan, Miss. Anna \"Annie\"',\n",
        "'Sloper, Mr. William Thompson',\n",
        "'Palsson, Miss. Torborg Danira',\n",
        "'Asplund, Mrs. Carl Oscar (Selma Augusta Emilia Johansson)',\n",
        "'Emir, Mr. Farred Chehab',\n",
        "'Fortune, Mr. Charles Alexander',\n",
        "'Dwyer, Miss. Ellen \"Nellie\"',\n",
        "'Todoroff, Mr. Lalio']\n",
        "\n",
        "```"
      ],
      "metadata": {
        "id": "ea3B_JXRjneV"
      }
    },
    {
      "cell_type": "code",
      "source": [
        "data = ['Braund, Mr. Owen Harris',\n",
        "'Cumings, Mrs. John Bradley (Florence Briggs Thayer)',\n",
        "'Heikkinen, Miss. Laina',\n",
        "'Futrelle, Mrs. Jacques Heath (Lily May Peel)',\n",
        "'Allen, Mr. William Henry',\n",
        "'Moran, Mr. James',\n",
        "'McCarthy, Mr. Timothy J',\n",
        "'Palsson, Master. Gosta Leonard',\n",
        "'Johnson, Mrs. Oscar W (Elisabeth Vilhelmina Berg)',\n",
        "'Nasser, Mrs. Nicholas (Adele Achem)',\n",
        "'Sandstrom, Miss. Marguerite Rut',\n",
        "'Bonnell, Miss. Elizabeth',\n",
        "'Saundercock, Mr. William Henry',\n",
        "'Andersson, Mr. Anders Johan',\n",
        "'Vestrom, Miss. Hulda Amanda Adolfina',\n",
        "'Hewlett, Mrs. (Mary D Kingcome) ',\n",
        "'Rice, Master. Eugene',\n",
        "'Williams, Mr. Charles Eugene',\n",
        "'Vander Planke, Mrs. Julius (Emelia Maria Vandemoortele)',\n",
        "'Masselmani, Mrs. Fatima',\n",
        "'Fynney, Mr. Joseph J',\n",
        "'Beesley, Mr. Lawrence',\n",
        "'McGowan, Miss. Anna \"Annie\"',\n",
        "'Sloper, Mr. William Thompson',\n",
        "'Palsson, Miss. Torborg Danira',\n",
        "'Asplund, Mrs. Carl Oscar (Selma Augusta Emilia Johansson)',\n",
        "'Emir, Mr. Farred Chehab',\n",
        "'Fortune, Mr. Charles Alexander',\n",
        "'Dwyer, Miss. Ellen \"Nellie\"',\n",
        "'Todoroff, Mr. Lalio']\n",
        "\n",
        "d = sum(name.count('M') for name in data)\n",
        "print(d)"
      ],
      "metadata": {
        "colab": {
          "base_uri": "https://localhost:8080/"
        },
        "id": "sx_arz1YjnhN",
        "outputId": "c4ac3164-0d75-4474-8d54-123259e44110"
      },
      "execution_count": null,
      "outputs": [
        {
          "output_type": "stream",
          "name": "stdout",
          "text": [
            "38\n"
          ]
        }
      ]
    },
    {
      "cell_type": "code",
      "source": [
        "m_count = 0\n",
        "for d in data:\n",
        "    #print(d)\n",
        "    for index in range(len(d)):\n",
        "        if d[index] == 'M':\n",
        "            m_count += 1\n",
        "print(m_count)"
      ],
      "metadata": {
        "colab": {
          "base_uri": "https://localhost:8080/"
        },
        "id": "aHrGWe2ZsWdT",
        "outputId": "85853867-610c-40d9-9953-191c1fb7202f"
      },
      "execution_count": null,
      "outputs": [
        {
          "output_type": "stream",
          "name": "stdout",
          "text": [
            "38\n"
          ]
        }
      ]
    }
  ]
}