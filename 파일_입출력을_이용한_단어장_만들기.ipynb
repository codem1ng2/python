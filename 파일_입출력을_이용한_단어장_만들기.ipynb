{
  "nbformat": 4,
  "nbformat_minor": 0,
  "metadata": {
    "colab": {
      "provenance": [],
      "include_colab_link": true
    },
    "kernelspec": {
      "name": "python3",
      "display_name": "Python 3"
    },
    "language_info": {
      "name": "python"
    }
  },
  "cells": [
    {
      "cell_type": "markdown",
      "metadata": {
        "id": "view-in-github",
        "colab_type": "text"
      },
      "source": [
        "<a href=\"https://colab.research.google.com/github/codem1ng2/python/blob/main/%E1%84%91%E1%85%A1%E1%84%8B%E1%85%B5%E1%86%AF_%E1%84%8B%E1%85%B5%E1%86%B8%E1%84%8E%E1%85%AE%E1%86%AF%E1%84%85%E1%85%A7%E1%86%A8%E1%84%8B%E1%85%B3%E1%86%AF_%E1%84%8B%E1%85%B5%E1%84%8B%E1%85%AD%E1%86%BC%E1%84%92%E1%85%A1%E1%86%AB_%E1%84%83%E1%85%A1%E1%86%AB%E1%84%8B%E1%85%A5%E1%84%8C%E1%85%A1%E1%86%BC_%E1%84%86%E1%85%A1%E1%86%AB%E1%84%83%E1%85%B3%E1%86%AF%E1%84%80%E1%85%B5.ipynb\" target=\"_parent\"><img src=\"https://colab.research.google.com/assets/colab-badge.svg\" alt=\"Open In Colab\"/></a>"
      ]
    },
    {
      "cell_type": "code",
      "source": [
        "wordList = [] # 파일에서 읽어들일 단어들을 저장\n",
        "filename = 'words.txt' # 파일 words를 변수 filename에 할당함. 이 파일에는 읽어올 단어들이 저장되어 있을거다"
      ],
      "metadata": {
        "id": "sl_pua0OwGa8"
      },
      "execution_count": null,
      "outputs": []
    },
    {
      "cell_type": "code",
      "source": [
        "class Word:\n",
        "    def __init__(self, eng, kor, lev=1): # 객체가 생성될때 자동으로 호출되는 생성자,영어단어, 한글 번역, 난이도를 입력받아 저장한다 난이도는 기본값이 1이며 따로 값을 지정하지 않을 시 자동으로 1이 적용된다.\n",
        "        self.eng = eng # 영어 단어를 저장\n",
        "        self.kor = kor # 한글 뜻을 저장\n",
        "        self.lev = lev # 난이도를 저장, 기본갑은 1\n",
        "\n",
        "    def setEng(self, eng): # 영어 단어를 설정하는 메서드\n",
        "        self.eng = eng\n",
        "\n",
        "    def getEng(self): # 영어 단어를 반환하는 메서드\n",
        "        return self.eng\n",
        "\n",
        "    def setKor(self, kor): # 한글 뜻을 설정하는 메서드\n",
        "        self.kor = kor\n",
        "\n",
        "    def getKor(self): # 한글 뜻을 반환하는 메서드\n",
        "        return self.kor\n",
        "\n",
        "    def setLev(self, lev): # 난이도를 설정하는 메서드\n",
        "        self.lev = lev\n",
        "\n",
        "    def getLev(self): # 난이도를 반환하는 메서드\n",
        "        return self.lev"
      ],
      "metadata": {
        "id": "lbJQmxLMtzWf"
      },
      "execution_count": null,
      "outputs": []
    },
    {
      "cell_type": "code",
      "source": [
        "class WordService: # 이 클래스는 Word 객체들을 관리하고 사용자와 상호작용하여 단어를 추가, 수정, 삭제할 수 있도록 돕는 다양한 메서드를 제공한다 내부에 있는 메서드를 통해 단어 리스트를 파일에 저장하고 불러오며 수정과 삭제도 할 수 있다\n",
        "    def insertWord(self): # 영단어, 한글번역, 난이도를 사용자로부터 입력받아 Word객체를 생성하고 wordList에 추가한다 + 입력된 단어가 등록되었음을 출력한다\n",
        "        eng = input('단어를 입력하세요: ') # 영어단어 입력\n",
        "        kor = input('뜻을 입력하세요: ') # 한글 뜻 입력\n",
        "        lev = input('레벨을 입력하세요: ') # 난이도 입력\n",
        "        word = Word(eng, kor, lev) # Word 객체 생성\n",
        "        wordList.append(word) # wordList에 추가\n",
        "        print('등록되었습니다') # 등록완료 메세지 출력\n",
        "\n",
        "    def printAll(self): # wordList에 있는 모든 단어를 출력. 각 단어는 eng, kor, lev 속성으로 구성되어있다 + f-string을 사용해 출력 형식을 지정했다\n",
        "        for data in wordList:\n",
        "            # 객체.eng, 객체.kor, 객체.lev\n",
        "            # print(data.getEng() + ' : ' + data.getKor() + ' (레벨 ' + data.getLev() + ')')\n",
        "            print(f'{data.getEng()} : {data.getKor()} (레벨 {data.getLev()})') # <- 각 단어 출력\n",
        "\n",
        "    def saveAll(self): # wordList에 있는 모든 단어를 파일에 저장함 단어와 그 단어의 뜻, 난이도를 '/' 로 구분하여 텍스트파일로 기록한다\n",
        "        with open(filename, 'w') as f:\n",
        "            for data in wordList:\n",
        "                f.write(f'{data.getEng()}/{data.getKor()}/{data.getLev()}\\n') # 파일에 저장\n",
        "            print('파일에 저장했습니다') # 저장완료 메세지\n",
        "\n",
        "    def loadData(self): # 파일에서 저장된 단어 데이터를 읽어와 wordList에 다시 불러온다 + 파일의 각 줄을 읽어와 word 객체를 생성하고 이를 wordList에 추가한다\n",
        "        with open(filename, 'r') as f:\n",
        "            while True:\n",
        "                line = f.readline() # 한줄씩 읽기\n",
        "                # apple/사과/1\n",
        "                if line:\n",
        "                    # data = ['apple', '사과', '1']\n",
        "                    data = line.strip().split('/') # '/' 로 나눠 리스트로 변환\n",
        "                    wordList.append(Word(data[0], data[1], data[2])) # Word객체로 만들어 리스트에 추가\n",
        "                else:\n",
        "                    break\n",
        "            print('데이터를 불러왔습니다') # 불러오기 완료 메세지\n",
        "\n",
        "    def correctData(self): # 사용자가 수정할 단어를 입력하고, 해당 단어의 뜻과 레벨을 수정한다 + wordList에서 입력한 단어를 찾아 수정하고 수정 야부를 확인한다\n",
        "        correctedWord = input('수정할 단어 입력하세요')\n",
        "        doorkeeper = False # 단어가 수정되었는지 확인하는 플래그\n",
        "        if len(wordList) == 0:\n",
        "            print('눈이 있니? 수정할께 어딨누?')\n",
        "        else:\n",
        "            for data in wordList:\n",
        "                if data.getEng() == correctedWord: # 일치 하는 단어 찾기\n",
        "                    cWord = input('바꿀 뜻을 입력하이소') # 뜻 수정\n",
        "                    data.setKor(cWord)\n",
        "                    cLevel = input('바꿀 레벨 입력 ㄱ') # 난이도 수정\n",
        "                    data.setLev(cLevel)\n",
        "                    print('수정 완료')\n",
        "                    doorkeeper = True # 수정완료\n",
        "                    break\n",
        "        if not doorkeeper:\n",
        "            print('수정할 게 없다') # 수정 할 단어가 없는 경우 출력\n",
        "\n",
        "    def deleteData(self): # 사용자가 삭제할 단어를 입력하고, 해당 단어를 wordList에서 삭제한다. + 삭제할 단어를 찾으면 리스트에서 제거하고, 삭제 여부를 확인한다\n",
        "        deleteWord = input('삭제할 단어 입력하세요')\n",
        "        doorkeeper = False # 단어가 삭제되었는지 확인하는 플래그\n",
        "        if len(wordList) == 0:\n",
        "            print('눈이 있니? 삭제할께 어딨누?')\n",
        "        else:\n",
        "            for data in wordList:\n",
        "                if data.getEng() == deleteWord: # 일치하는 단어 찾기\n",
        "                    wordList.remove(data) # 삭제\n",
        "                    print('삭제완료') # 삭제완료 메세지 출력\n",
        "                    doorkeeper = True\n",
        "                    break\n",
        "        if not doorkeeper:\n",
        "            print('삭제할 게 없다') # 삭제할 단어가 없는 경우 출력\n"
      ],
      "metadata": {
        "id": "716x55ZWsYla"
      },
      "execution_count": null,
      "outputs": []
    },
    {
      "cell_type": "code",
      "source": [
        "class Menu:\n",
        "    def __init__(self): # WordService 클래그의 인스턴스를 생성하여 self.wordService속성에 저장한다\n",
        "        self.wordService = WordService()\n",
        "\n",
        "    def run(self):\n",
        "        while True:\n",
        "            try:\n",
        "                menu = int(input('1.등록하기 2.출력하기 3.저장하기 4.불러오기 5.수정하기, 6.삭제하기 7.종료하기 :'))\n",
        "                if menu == 1:\n",
        "                    self.wordService.insertWord()\n",
        "                elif menu == 2:\n",
        "                    self.wordService.printAll()\n",
        "                elif menu == 3:\n",
        "                    self.wordService.saveAll()\n",
        "                elif menu == 4:\n",
        "                    self.wordService.loadData()\n",
        "                elif menu == 5:\n",
        "                    self.wordService.correctData()\n",
        "                elif menu == 6:\n",
        "                    self.wordService.deleteData()\n",
        "                elif menu == 7:\n",
        "                    print('프로그램을 종료합니다')\n",
        "                    break\n",
        "                else:\n",
        "                    print('다시 입력하세요!')\n",
        "            except Exception as e:\n",
        "                print(e)\n",
        "                print('다시 입력하세요!')"
      ],
      "metadata": {
        "id": "Otpd3gtSGLUy"
      },
      "execution_count": null,
      "outputs": []
    },
    {
      "cell_type": "code",
      "source": [
        "start = Menu()\n",
        "start.run()"
      ],
      "metadata": {
        "colab": {
          "base_uri": "https://localhost:8080/"
        },
        "id": "DRkU8Xtrr7q5",
        "outputId": "e01afbb0-ffee-4666-b570-5316d0945ea5"
      },
      "execution_count": null,
      "outputs": [
        {
          "output_type": "stream",
          "name": "stdout",
          "text": [
            "1.등록하기 2.출력하기 3.저장하기 4.불러오기 5.수정하기, 6.삭제하기 7.종료하기 :2\n",
            "2 : 2 (레벨 7)\n",
            " :  (레벨 )\n",
            "1.등록하기 2.출력하기 3.저장하기 4.불러오기 5.수정하기, 6.삭제하기 7.종료하기 :5\n",
            "수정할 단어 입력하세요hambergur\n",
            "수정할 게 없다\n",
            "1.등록하기 2.출력하기 3.저장하기 4.불러오기 5.수정하기, 6.삭제하기 7.종료하기 :6\n",
            "삭제할 단어 입력하세요null\n",
            "삭제할 게 없다\n",
            "1.등록하기 2.출력하기 3.저장하기 4.불러오기 5.수정하기, 6.삭제하기 7.종료하기 :7\n",
            "프로그램을 종료합니다\n"
          ]
        }
      ]
    }
  ]
}