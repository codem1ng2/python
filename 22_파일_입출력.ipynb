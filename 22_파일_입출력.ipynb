{
  "nbformat": 4,
  "nbformat_minor": 0,
  "metadata": {
    "colab": {
      "provenance": [],
      "authorship_tag": "ABX9TyPS286Oz5lzDJ2Qj4FRHbNE",
      "include_colab_link": true
    },
    "kernelspec": {
      "name": "python3",
      "display_name": "Python 3"
    },
    "language_info": {
      "name": "python"
    }
  },
  "cells": [
    {
      "cell_type": "markdown",
      "metadata": {
        "id": "view-in-github",
        "colab_type": "text"
      },
      "source": [
        "<a href=\"https://colab.research.google.com/github/codem1ng2/python/blob/main/22_%ED%8C%8C%EC%9D%BC_%EC%9E%85%EC%B6%9C%EB%A0%A5.ipynb\" target=\"_parent\"><img src=\"https://colab.research.google.com/assets/colab-badge.svg\" alt=\"Open In Colab\"/></a>"
      ]
    },
    {
      "cell_type": "markdown",
      "source": [
        "# **1. 파일 입출력**\n",
        "파이썬에서 파일 입출력은 다양한 용도로 사용된다. 텍스트 파일, 바이너리 파일, CSV 파일, JSON파일 등을 읽고 쓸 수 있다.\n"
      ],
      "metadata": {
        "id": "64sDmCPZ2SiL"
      }
    },
    {
      "cell_type": "markdown",
      "source": [
        "### 1-1. 파일열기\n",
        "파일을 열려면 open 함수를 사용한다.\n",
        "\n",
        "```\n",
        "f = open(\"파일명\", \"모드\")\n",
        "\n",
        "파일명: 열고자 하는 파일의 이름이나 경로\n",
        "모드: 파일을 어떻게 열 것인지를 지정\n",
        "\n",
        "r: 읽기 모드 (기본값)\n",
        "w: 쓰기 모드 (파일이 있으면 덮어쓰기)\n",
        "a: 추가 모드 (파일의 끝에 내용을 추가) -- append\n",
        "b: 바이너리 모드 (텍스트가 아닌 바이너리 데이터를 읽고/쓸 때 사용)\n",
        "t: 텍스트 모드\n",
        "+: 읽기와 쓰기 모드\n",
        "```"
      ],
      "metadata": {
        "id": "MvIbhOqh2WxQ"
      }
    },
    {
      "cell_type": "markdown",
      "source": [
        "### 1-2. 파일쓰기"
      ],
      "metadata": {
        "id": "lgVoylGs2W0q"
      }
    },
    {
      "cell_type": "code",
      "source": [
        "f = open('example.txt', 'wt')\n",
        "f.write('Hello 파이썬!\\n')\n",
        "f.close() # 파일을 닫아야 저장이 완료됨"
      ],
      "metadata": {
        "id": "5CrgBzmS3qIW"
      },
      "execution_count": null,
      "outputs": []
    },
    {
      "cell_type": "code",
      "source": [
        "f = open('example2.txt', 'w')\n",
        "f.writelines(['라인 1\\n', '라인 2\\n', '라인 3\\n'])\n",
        "f.close()"
      ],
      "metadata": {
        "id": "Td3VrsIf38Pd"
      },
      "execution_count": null,
      "outputs": []
    },
    {
      "cell_type": "code",
      "source": [
        "f = open('example3.txt', 'w')\n",
        "for i in range(10):\n",
        "    f.write('파일쓰기 테스트:' + str(i) + '\\n')\n",
        "f.close()\n",
        "print('example3.txt 파일에 쓰기 완료!')"
      ],
      "metadata": {
        "colab": {
          "base_uri": "https://localhost:8080/"
        },
        "id": "gxlgvQsh38Sp",
        "outputId": "84abfad3-af3b-4bbd-e4ef-e2f3dc49142b"
      },
      "execution_count": null,
      "outputs": [
        {
          "output_type": "stream",
          "name": "stdout",
          "text": [
            "example3.txt 파일에 쓰기 완료!\n"
          ]
        }
      ]
    },
    {
      "cell_type": "markdown",
      "source": [
        "### 1-3. 파일읽기\n"
      ],
      "metadata": {
        "id": "s_RkZzyI38Vg"
      }
    },
    {
      "cell_type": "code",
      "source": [
        "f = open('example.txt', 'rt')\n",
        "data = f.read()\n",
        "print(data)\n",
        "f.close()"
      ],
      "metadata": {
        "colab": {
          "base_uri": "https://localhost:8080/"
        },
        "id": "jjkRJfV65-IM",
        "outputId": "f0a2fa0d-ebb4-4399-bd07-cb274727ddff"
      },
      "execution_count": null,
      "outputs": [
        {
          "output_type": "stream",
          "name": "stdout",
          "text": [
            "Hello 파이썬!\n",
            "\n"
          ]
        }
      ]
    },
    {
      "cell_type": "code",
      "source": [
        "f = open('example2.txt', 'rt')\n",
        "data = f.read() # 매개변수가 없을 경우 여러줄을 한꺼번에 읽어옴\n",
        "print(data)\n",
        "f.close()"
      ],
      "metadata": {
        "colab": {
          "base_uri": "https://localhost:8080/"
        },
        "id": "HvBj6VFi38YU",
        "outputId": "1bd16377-3cab-4747-d291-77fff2892ee2"
      },
      "execution_count": null,
      "outputs": [
        {
          "output_type": "stream",
          "name": "stdout",
          "text": [
            "라인 1\n",
            "라인 2\n",
            "라인 3\n",
            "\n"
          ]
        }
      ]
    },
    {
      "cell_type": "code",
      "source": [
        "f = open('example2.txt', 'rt')\n",
        "data = f.read(2)  # 매개변수 만큼 읽어옴\n",
        "print(data)\n",
        "f.close()"
      ],
      "metadata": {
        "colab": {
          "base_uri": "https://localhost:8080/"
        },
        "id": "Qt92tkoJ38bl",
        "outputId": "869d295c-9f21-4a52-8dbc-d53e762e6da8"
      },
      "execution_count": null,
      "outputs": [
        {
          "output_type": "stream",
          "name": "stdout",
          "text": [
            "라인\n"
          ]
        }
      ]
    },
    {
      "cell_type": "markdown",
      "source": [
        "### 문제\n",
        "read(5) 메서드를 사용하여 example3.txt의 모든 글자를 출력하는 프로그램을 작성하자\n"
      ],
      "metadata": {
        "id": "y6paL_LM38eo"
      }
    },
    {
      "cell_type": "code",
      "source": [
        "f = open('example3.txt', 'r')\n",
        "while True:\n",
        "    result = f.read(5)\n",
        "    if not result:\n",
        "        break\n",
        "    print(result, end = '')\n",
        "1"
      ],
      "metadata": {
        "colab": {
          "base_uri": "https://localhost:8080/"
        },
        "id": "K53_WXPH38iG",
        "outputId": "84e5eb17-984d-4ebe-fad8-640474f81218"
      },
      "execution_count": null,
      "outputs": [
        {
          "output_type": "stream",
          "name": "stdout",
          "text": [
            "파일쓰기 테스트:0\n",
            "파일쓰기 테스트:1\n",
            "파일쓰기 테스트:2\n",
            "파일쓰기 테스트:3\n",
            "파일쓰기 테스트:4\n",
            "파일쓰기 테스트:5\n",
            "파일쓰기 테스트:6\n",
            "파일쓰기 테스트:7\n",
            "파일쓰기 테스트:8\n",
            "파일쓰기 테스트:9\n"
          ]
        }
      ]
    },
    {
      "cell_type": "markdown",
      "source": [
        "# **2. with문 사용하기**\n",
        "* 파일을 보다 안전하고 깔끔하게 다루는 방법중에 하나.\n",
        "* 컨텍스트 매니저를 사용하여 파일을 열고, 파일 작업이 끝나면 자동으로 파일을 닫아주는 역할.\n",
        "* 파일을 열고 나서 오류가 발생하더라도 파일을 자동으로 닫아줌.\n",
        "* close()를 호출하지 않아도 됨으로 코드가 간단해지고 깔끔해진다."
      ],
      "metadata": {
        "id": "gZhCuuYW3qQX"
      }
    },
    {
      "cell_type": "code",
      "source": [
        "with open('word.txt', 'w') as  f:\n",
        "    while True:\n",
        "        data = input('단어를 입력하세요:')\n",
        "        if data.lower() == 'quit':\n",
        "            break\n",
        "        f.write(data + '\\n') # 자동으로 close()해줌"
      ],
      "metadata": {
        "colab": {
          "base_uri": "https://localhost:8080/"
        },
        "id": "0xuzgJlv9-cA",
        "outputId": "962707d3-fa98-4620-e460-31721f6c1560"
      },
      "execution_count": null,
      "outputs": [
        {
          "name": "stdout",
          "output_type": "stream",
          "text": [
            "단어를 입력하세요:apple\n",
            "단어를 입력하세요:banana\n",
            "단어를 입력하세요:melon\n",
            "단어를 입력하세요:quit\n"
          ]
        }
      ]
    },
    {
      "cell_type": "code",
      "source": [
        "with open('example3.txt', 'r') as f:\n",
        "    while True:\n",
        "        result = f.read(5)\n",
        "        if not result:\n",
        "            break\n",
        "        print(result, end = '')\n"
      ],
      "metadata": {
        "id": "DONQMnTB9-e9",
        "colab": {
          "base_uri": "https://localhost:8080/"
        },
        "outputId": "11fe40e0-c8da-45ce-b5aa-1b4a7d6edd85"
      },
      "execution_count": null,
      "outputs": [
        {
          "output_type": "stream",
          "name": "stdout",
          "text": [
            "파일쓰기 테스트:0\n",
            "파일쓰기 테스트:1\n",
            "파일쓰기 테스트:2\n",
            "파일쓰기 테스트:3\n",
            "파일쓰기 테스트:4\n",
            "파일쓰기 테스트:5\n",
            "파일쓰기 테스트:6\n",
            "파일쓰기 테스트:7\n",
            "파일쓰기 테스트:8\n",
            "파일쓰기 테스트:9\n"
          ]
        }
      ]
    },
    {
      "cell_type": "code",
      "source": [
        "with open('word.txt', 'r') as f:\n",
        "    lines = []\n",
        "    while True:\n",
        "        line = f.readline()\n",
        "        if not line:\n",
        "            break\n",
        "        print(line, end='')\n",
        "        lines.append(line.strip())"
      ],
      "metadata": {
        "colab": {
          "base_uri": "https://localhost:8080/"
        },
        "id": "NOE84nZW9-hh",
        "outputId": "b94d17cf-3ec0-4cef-ebad-b977d27dde6f"
      },
      "execution_count": null,
      "outputs": [
        {
          "output_type": "stream",
          "name": "stdout",
          "text": [
            "apple\n",
            "banana\n",
            "melon\n"
          ]
        }
      ]
    },
    {
      "cell_type": "code",
      "source": [
        "print(lines)"
      ],
      "metadata": {
        "colab": {
          "base_uri": "https://localhost:8080/"
        },
        "id": "BsbGqV2y9-jz",
        "outputId": "d436c5ac-ba7a-4cce-c77f-141a7a616402"
      },
      "execution_count": null,
      "outputs": [
        {
          "output_type": "stream",
          "name": "stdout",
          "text": [
            "['apple', 'banana', 'orange', 'melon']\n"
          ]
        }
      ]
    },
    {
      "cell_type": "code",
      "source": [
        "with open('word.txt', 'r') as f:\n",
        "    lines = f.readlines()\n",
        "    print(lines)"
      ],
      "metadata": {
        "colab": {
          "base_uri": "https://localhost:8080/"
        },
        "id": "hbIRwvZB9-lr",
        "outputId": "9f19c369-7482-4c24-8fdd-a1612920d34a"
      },
      "execution_count": null,
      "outputs": [
        {
          "output_type": "stream",
          "name": "stdout",
          "text": [
            "['apple\\n', 'banana\\n', 'orange\\n', 'melon\\n']\n"
          ]
        }
      ]
    },
    {
      "cell_type": "code",
      "source": [
        "li = []\n",
        "for i in lines:\n",
        "    li.append(i.replace('\\n', ''))"
      ],
      "metadata": {
        "id": "hgtfC8382W4E"
      },
      "execution_count": null,
      "outputs": []
    },
    {
      "cell_type": "code",
      "source": [
        "print(li)"
      ],
      "metadata": {
        "colab": {
          "base_uri": "https://localhost:8080/"
        },
        "id": "Jta5E2AV2W7X",
        "outputId": "299e228b-0d3a-4792-a213-32b379439f27"
      },
      "execution_count": null,
      "outputs": [
        {
          "output_type": "stream",
          "name": "stdout",
          "text": [
            "['apple', 'banana', 'orange', 'melon']\n"
          ]
        }
      ]
    },
    {
      "cell_type": "markdown",
      "source": [
        "# **3. 예외처리와 함께 사용하기**\n"
      ],
      "metadata": {
        "id": "crtJndTb2W-h"
      }
    },
    {
      "cell_type": "code",
      "source": [
        "try:\n",
        "    with open('nofile.txt', 'r') as f:\n",
        "        data = f.read()\n",
        "        print(data)\n",
        "except FileNotFoundError:\n",
        "    print('파일이 존재하지 않습니다')"
      ],
      "metadata": {
        "colab": {
          "base_uri": "https://localhost:8080/"
        },
        "id": "FuOb5OT3D9iq",
        "outputId": "c1e48f3f-13a0-4a43-c950-58e6ea75ae02"
      },
      "execution_count": null,
      "outputs": [
        {
          "output_type": "stream",
          "name": "stdout",
          "text": [
            "파일이 존재하지 않습니다\n"
          ]
        }
      ]
    }
  ]
}