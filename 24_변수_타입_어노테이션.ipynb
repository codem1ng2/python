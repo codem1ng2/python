{
  "nbformat": 4,
  "nbformat_minor": 0,
  "metadata": {
    "colab": {
      "provenance": [],
      "authorship_tag": "ABX9TyP+Eq0Y7sroyFZNj3gkBQxF",
      "include_colab_link": true
    },
    "kernelspec": {
      "name": "python3",
      "display_name": "Python 3"
    },
    "language_info": {
      "name": "python"
    }
  },
  "cells": [
    {
      "cell_type": "markdown",
      "metadata": {
        "id": "view-in-github",
        "colab_type": "text"
      },
      "source": [
        "<a href=\"https://colab.research.google.com/github/codem1ng2/python/blob/main/24_%EB%B3%80%EC%88%98_%ED%83%80%EC%9E%85_%EC%96%B4%EB%85%B8%ED%85%8C%EC%9D%B4%EC%85%98.ipynb\" target=\"_parent\"><img src=\"https://colab.research.google.com/assets/colab-badge.svg\" alt=\"Open In Colab\"/></a>"
      ]
    },
    {
      "cell_type": "markdown",
      "source": [
        "# **1. 변수타입 어노테이션**\n",
        "파이썬에서 변수 타입 어노테이션(type annotation)은 변수의 예상 타입을 명시적으로 알려주는 방법이다. 파이썬은 기본적으로 동적 타입 언어이기 때문에 변수를 선언할 때 타입을 지정하지 않아도 되지만, 타입 어노테이션을 통해 코드의 가독성을 높이고, IDE나 린터(linter)에서 타입 오류를 미리 잡아낼 수 있도록 도와준다."
      ],
      "metadata": {
        "id": "Te073opgxxxJ"
      }
    },
    {
      "cell_type": "markdown",
      "source": [
        "# **2. 기본타입 어노테이션**"
      ],
      "metadata": {
        "id": "6lVT6Y4NyE8F"
      }
    },
    {
      "cell_type": "code",
      "source": [
        "name: str = \"김사과\"\n",
        "age: int = 20\n",
        "height: float = 160.5\n",
        "is_lover: bool = True"
      ],
      "metadata": {
        "id": "AVHreQx6yFCZ"
      },
      "execution_count": null,
      "outputs": []
    },
    {
      "cell_type": "markdown",
      "source": [
        "# **3. 리스트, 튜플, 딕셔너리, 세트**\n",
        "컬렉션 타입에 대한 어노테이션은 조금 더 복잡하다. 이를 위해 List, Tuple, Dict, Set 등의 제네릭 타입을 사용하게 된다. 이러한 타입들은 typing 모듈에서 가져올 수 있다.\n",
        "\n"
      ],
      "metadata": {
        "id": "ZRnpG58dyFFi"
      }
    },
    {
      "cell_type": "code",
      "source": [
        "from typing import List"
      ],
      "metadata": {
        "id": "NmHgA9Z-yE_Y"
      },
      "execution_count": null,
      "outputs": []
    },
    {
      "cell_type": "code",
      "source": [
        "names: List[str] = [\"김사과\", \"오렌지\", \"반하나\"]\n",
        "age: Tuple[int, int] = (25, 20)\n",
        "student_scores: Dict[str, float] = {\"김사과\": 90.5, \"오렌지\": 88.0}\n",
        "unique_numbers: Set[int] = {1, 2, 3, 3, 4}"
      ],
      "metadata": {
        "colab": {
          "base_uri": "https://localhost:8080/",
          "height": 193
        },
        "id": "xdZh9E4CyFId",
        "outputId": "f848f98c-13d1-4691-a0d0-a3acdda843d9"
      },
      "execution_count": null,
      "outputs": [
        {
          "output_type": "error",
          "ename": "NameError",
          "evalue": "name 'Tuple' is not defined",
          "traceback": [
            "\u001b[0;31m---------------------------------------------------------------------------\u001b[0m",
            "\u001b[0;31mNameError\u001b[0m                                 Traceback (most recent call last)",
            "\u001b[0;32m<ipython-input-21-6f35aaae189f>\u001b[0m in \u001b[0;36m<cell line: 2>\u001b[0;34m()\u001b[0m\n\u001b[1;32m      1\u001b[0m \u001b[0mnames\u001b[0m\u001b[0;34m:\u001b[0m \u001b[0mList\u001b[0m\u001b[0;34m[\u001b[0m\u001b[0mstr\u001b[0m\u001b[0;34m]\u001b[0m \u001b[0;34m=\u001b[0m \u001b[0;34m[\u001b[0m\u001b[0;34m\"김사과\"\u001b[0m\u001b[0;34m,\u001b[0m \u001b[0;34m\"오렌지\"\u001b[0m\u001b[0;34m,\u001b[0m \u001b[0;34m\"반하나\"\u001b[0m\u001b[0;34m]\u001b[0m\u001b[0;34m\u001b[0m\u001b[0;34m\u001b[0m\u001b[0m\n\u001b[0;32m----> 2\u001b[0;31m \u001b[0mage\u001b[0m\u001b[0;34m:\u001b[0m \u001b[0mTuple\u001b[0m\u001b[0;34m[\u001b[0m\u001b[0mint\u001b[0m\u001b[0;34m,\u001b[0m \u001b[0mint\u001b[0m\u001b[0;34m]\u001b[0m \u001b[0;34m=\u001b[0m \u001b[0;34m(\u001b[0m\u001b[0;36m25\u001b[0m\u001b[0;34m,\u001b[0m \u001b[0;36m20\u001b[0m\u001b[0;34m)\u001b[0m\u001b[0;34m\u001b[0m\u001b[0;34m\u001b[0m\u001b[0m\n\u001b[0m\u001b[1;32m      3\u001b[0m \u001b[0mstudent_scores\u001b[0m\u001b[0;34m:\u001b[0m \u001b[0mDict\u001b[0m\u001b[0;34m[\u001b[0m\u001b[0mstr\u001b[0m\u001b[0;34m,\u001b[0m \u001b[0mfloat\u001b[0m\u001b[0;34m]\u001b[0m \u001b[0;34m=\u001b[0m \u001b[0;34m{\u001b[0m\u001b[0;34m\"김사과\"\u001b[0m\u001b[0;34m:\u001b[0m \u001b[0;36m90.5\u001b[0m\u001b[0;34m,\u001b[0m \u001b[0;34m\"오렌지\"\u001b[0m\u001b[0;34m:\u001b[0m \u001b[0;36m88.0\u001b[0m\u001b[0;34m}\u001b[0m\u001b[0;34m\u001b[0m\u001b[0;34m\u001b[0m\u001b[0m\n\u001b[1;32m      4\u001b[0m \u001b[0munique_numbers\u001b[0m\u001b[0;34m:\u001b[0m \u001b[0mSet\u001b[0m\u001b[0;34m[\u001b[0m\u001b[0mint\u001b[0m\u001b[0;34m]\u001b[0m \u001b[0;34m=\u001b[0m \u001b[0;34m{\u001b[0m\u001b[0;36m1\u001b[0m\u001b[0;34m,\u001b[0m \u001b[0;36m2\u001b[0m\u001b[0;34m,\u001b[0m \u001b[0;36m3\u001b[0m\u001b[0;34m,\u001b[0m \u001b[0;36m3\u001b[0m\u001b[0;34m,\u001b[0m \u001b[0;36m4\u001b[0m\u001b[0;34m}\u001b[0m\u001b[0;34m\u001b[0m\u001b[0;34m\u001b[0m\u001b[0m\n",
            "\u001b[0;31mNameError\u001b[0m: name 'Tuple' is not defined"
          ]
        }
      ]
    },
    {
      "cell_type": "code",
      "source": [
        "print(names)\n",
        "print(age)\n",
        "print(student_scores)\n",
        "print(unique_numbers)"
      ],
      "metadata": {
        "id": "fakdCbqpyFLY"
      },
      "execution_count": null,
      "outputs": []
    },
    {
      "cell_type": "markdown",
      "source": [
        "# **4. 함수**"
      ],
      "metadata": {
        "id": "BUIz_0YFyFOP"
      }
    },
    {
      "cell_type": "code",
      "source": [
        "def add(a: int, b: int) -> int: # a는 int, b는 int, 결과는 int 자료형으로 처리\n",
        "    return a + b\n",
        "\n",
        "add(10, 3)\n",
        "add(\"10\", \"3\") # 에러가 발생하지는 않음\n",
        "\n",
        "# 타입 어노테이션을 확인\n",
        "add.__annotations__"
      ],
      "metadata": {
        "id": "BC278zDJyFRS"
      },
      "execution_count": null,
      "outputs": []
    },
    {
      "cell_type": "markdown",
      "source": [
        "# **5. 클래스**\n"
      ],
      "metadata": {
        "id": "GulIV6mF1m14"
      }
    },
    {
      "cell_type": "code",
      "source": [
        "class Student:\n",
        "    def __init__(self, name: str, age: int):\n",
        "        self.name = name\n",
        "        self.age = age\n",
        "    def __str__(self) -> str:\n",
        "        return '이름:' + self.name + ', 나이:' + str(self.age)"
      ],
      "metadata": {
        "id": "Fp6P6EuF1m5G"
      },
      "execution_count": null,
      "outputs": []
    },
    {
      "cell_type": "code",
      "source": [
        "def print_student(s: Student) -> None:\n",
        "    print(f\"이름:{s.name}, 나이:{s.age}\")\n"
      ],
      "metadata": {
        "id": "uncqXcIX1m79"
      },
      "execution_count": null,
      "outputs": []
    },
    {
      "cell_type": "code",
      "source": [
        "student = Student('김사과', 20)\n",
        "print(student)\n",
        "print_student(student)"
      ],
      "metadata": {
        "id": "ne8rvams1m-t"
      },
      "execution_count": null,
      "outputs": []
    },
    {
      "cell_type": "markdown",
      "source": [
        "# **6. 옵셔널**\n",
        "변수가 특정 타입이거나 None일 수 있는 경우 Optional을 사용한다.\n"
      ],
      "metadata": {
        "id": "RLaZ2DyVyFUN"
      }
    },
    {
      "cell_type": "code",
      "source": [
        "from typing import Optional"
      ],
      "metadata": {
        "id": "WHCkNmvyyFXA"
      },
      "execution_count": null,
      "outputs": []
    },
    {
      "cell_type": "code",
      "source": [
        "def find_score(name: str, scores: Dict[str, float]) -> Optional[float]:\n",
        "    return scores.get(name)"
      ],
      "metadata": {
        "colab": {
          "base_uri": "https://localhost:8080/",
          "height": 158
        },
        "id": "9eTLTRjZyFaK",
        "outputId": "0141245f-975b-4a0e-9240-ba02ba507d17"
      },
      "execution_count": null,
      "outputs": [
        {
          "output_type": "error",
          "ename": "NameError",
          "evalue": "name 'Dict' is not defined",
          "traceback": [
            "\u001b[0;31m---------------------------------------------------------------------------\u001b[0m",
            "\u001b[0;31mNameError\u001b[0m                                 Traceback (most recent call last)",
            "\u001b[0;32m<ipython-input-4-e529587261f2>\u001b[0m in \u001b[0;36m<cell line: 1>\u001b[0;34m()\u001b[0m\n\u001b[0;32m----> 1\u001b[0;31m \u001b[0;32mdef\u001b[0m \u001b[0mfind_score\u001b[0m\u001b[0;34m(\u001b[0m\u001b[0mname\u001b[0m\u001b[0;34m:\u001b[0m \u001b[0mstr\u001b[0m\u001b[0;34m,\u001b[0m \u001b[0mscores\u001b[0m\u001b[0;34m:\u001b[0m \u001b[0mDict\u001b[0m\u001b[0;34m[\u001b[0m\u001b[0mstr\u001b[0m\u001b[0;34m,\u001b[0m \u001b[0mfloat\u001b[0m\u001b[0;34m]\u001b[0m\u001b[0;34m)\u001b[0m \u001b[0;34m->\u001b[0m \u001b[0mOptional\u001b[0m\u001b[0;34m[\u001b[0m\u001b[0mfloat\u001b[0m\u001b[0;34m]\u001b[0m\u001b[0;34m:\u001b[0m\u001b[0;34m\u001b[0m\u001b[0;34m\u001b[0m\u001b[0m\n\u001b[0m\u001b[1;32m      2\u001b[0m     \u001b[0;32mreturn\u001b[0m \u001b[0mscores\u001b[0m\u001b[0;34m.\u001b[0m\u001b[0mget\u001b[0m\u001b[0;34m(\u001b[0m\u001b[0mname\u001b[0m\u001b[0;34m)\u001b[0m\u001b[0;34m\u001b[0m\u001b[0;34m\u001b[0m\u001b[0m\n",
            "\u001b[0;31mNameError\u001b[0m: name 'Dict' is not defined"
          ]
        }
      ]
    },
    {
      "cell_type": "code",
      "source": [
        "print(find_score('김사과',{'김사과':80, '오렌지:'40, '반하나:'90}))"
      ],
      "metadata": {
        "id": "tMDB_HRUytoT"
      },
      "execution_count": null,
      "outputs": []
    },
    {
      "cell_type": "code",
      "source": [
        "print(find_score('이메론',{'김사과':80, '오렌지:'40, '반하나:'90}))"
      ],
      "metadata": {
        "colab": {
          "base_uri": "https://localhost:8080/",
          "height": 106
        },
        "id": "GNq-U-Prytq2",
        "outputId": "6fa8a905-a536-48df-f4fb-8e7fb535bfe0"
      },
      "execution_count": null,
      "outputs": [
        {
          "output_type": "error",
          "ename": "SyntaxError",
          "evalue": "':' expected after dictionary key (<ipython-input-5-94f99f9c0e13>, line 1)",
          "traceback": [
            "\u001b[0;36m  File \u001b[0;32m\"<ipython-input-5-94f99f9c0e13>\"\u001b[0;36m, line \u001b[0;32m1\u001b[0m\n\u001b[0;31m    print(find_score('이메론',{'김사과':80, '오렌지:'40, '반하나:'90}))\u001b[0m\n\u001b[0m                                           ^\u001b[0m\n\u001b[0;31mSyntaxError\u001b[0m\u001b[0;31m:\u001b[0m ':' expected after dictionary key\n"
          ]
        }
      ]
    },
    {
      "cell_type": "markdown",
      "source": [
        "# **7. 유니온**\n",
        "여러 개의 타입이 허용될 수 있는 상황에 사용"
      ],
      "metadata": {
        "id": "WMz2p8IDzSzo"
      }
    },
    {
      "cell_type": "code",
      "source": [
        "from typing import Optional"
      ],
      "metadata": {
        "id": "PEjb_bKBzS2r"
      },
      "execution_count": null,
      "outputs": []
    },
    {
      "cell_type": "code",
      "source": [
        "def toString(num: int | float) -> str:\n",
        "    return str(num)"
      ],
      "metadata": {
        "id": "JYBQHBSczS5g"
      },
      "execution_count": null,
      "outputs": []
    },
    {
      "cell_type": "code",
      "source": [
        "print(toString(10))\n",
        "print(toString(10.4))"
      ],
      "metadata": {
        "colab": {
          "base_uri": "https://localhost:8080/"
        },
        "id": "RBhtgaFmzwmN",
        "outputId": "7f6b657c-7b25-4342-e9e4-e94828eb8797"
      },
      "execution_count": null,
      "outputs": [
        {
          "output_type": "stream",
          "name": "stdout",
          "text": [
            "10\n",
            "10.4\n"
          ]
        }
      ]
    },
    {
      "cell_type": "code",
      "source": [
        "li: List[Union[int, str, float]] = [10, '안녕', 3.14]\n",
        "print(li)"
      ],
      "metadata": {
        "colab": {
          "base_uri": "https://localhost:8080/",
          "height": 158
        },
        "id": "_PRQsQ_DzS8d",
        "outputId": "e33324ca-69ea-440c-82ad-9a83a3b10fcc"
      },
      "execution_count": null,
      "outputs": [
        {
          "output_type": "error",
          "ename": "NameError",
          "evalue": "name 'List' is not defined",
          "traceback": [
            "\u001b[0;31m---------------------------------------------------------------------------\u001b[0m",
            "\u001b[0;31mNameError\u001b[0m                                 Traceback (most recent call last)",
            "\u001b[0;32m<ipython-input-13-7d7602257a39>\u001b[0m in \u001b[0;36m<cell line: 1>\u001b[0;34m()\u001b[0m\n\u001b[0;32m----> 1\u001b[0;31m \u001b[0mli\u001b[0m\u001b[0;34m:\u001b[0m \u001b[0mList\u001b[0m\u001b[0;34m[\u001b[0m\u001b[0mUnion\u001b[0m\u001b[0;34m[\u001b[0m\u001b[0mint\u001b[0m\u001b[0;34m,\u001b[0m \u001b[0mstr\u001b[0m\u001b[0;34m,\u001b[0m \u001b[0mfloat\u001b[0m\u001b[0;34m]\u001b[0m\u001b[0;34m]\u001b[0m \u001b[0;34m=\u001b[0m \u001b[0;34m[\u001b[0m\u001b[0;36m10\u001b[0m\u001b[0;34m,\u001b[0m \u001b[0;34m'안녕'\u001b[0m\u001b[0;34m,\u001b[0m \u001b[0;36m3.14\u001b[0m\u001b[0;34m]\u001b[0m\u001b[0;34m\u001b[0m\u001b[0;34m\u001b[0m\u001b[0m\n\u001b[0m\u001b[1;32m      2\u001b[0m \u001b[0mprint\u001b[0m\u001b[0;34m(\u001b[0m\u001b[0mli\u001b[0m\u001b[0;34m)\u001b[0m\u001b[0;34m\u001b[0m\u001b[0;34m\u001b[0m\u001b[0m\n",
            "\u001b[0;31mNameError\u001b[0m: name 'List' is not defined"
          ]
        }
      ]
    },
    {
      "cell_type": "markdown",
      "source": [
        "# **8. 파이널**\n",
        "재할당이 불가능한 변수(즉, 상수)에 대한 타입 어노테이션을 사용"
      ],
      "metadata": {
        "id": "blx3viHOzS_V"
      }
    },
    {
      "cell_type": "code",
      "source": [
        "from typing import Final"
      ],
      "metadata": {
        "id": "krTo0oqKzTBu"
      },
      "execution_count": null,
      "outputs": []
    },
    {
      "cell_type": "code",
      "source": [
        "out: Final[int] = 10"
      ],
      "metadata": {
        "id": "xO6jVGBE0opW"
      },
      "execution_count": null,
      "outputs": []
    },
    {
      "cell_type": "code",
      "source": [],
      "metadata": {
        "id": "ceiM62q_0osN"
      },
      "execution_count": null,
      "outputs": []
    },
    {
      "cell_type": "code",
      "source": [],
      "metadata": {
        "id": "Fkriwz5J0ovi"
      },
      "execution_count": null,
      "outputs": []
    }
  ]
}