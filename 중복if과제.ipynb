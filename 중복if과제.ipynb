{
  "nbformat": 4,
  "nbformat_minor": 0,
  "metadata": {
    "colab": {
      "provenance": [],
      "authorship_tag": "ABX9TyO07Qdux/XcZTRoW2ZDLZiy",
      "include_colab_link": true
    },
    "kernelspec": {
      "name": "python3",
      "display_name": "Python 3"
    },
    "language_info": {
      "name": "python"
    }
  },
  "cells": [
    {
      "cell_type": "markdown",
      "metadata": {
        "id": "view-in-github",
        "colab_type": "text"
      },
      "source": [
        "<a href=\"https://colab.research.google.com/github/codem1ng2/python/blob/main/%EC%A4%91%EB%B3%B5if%EA%B3%BC%EC%A0%9C.ipynb\" target=\"_parent\"><img src=\"https://colab.research.google.com/assets/colab-badge.svg\" alt=\"Open In Colab\"/></a>"
      ]
    },
    {
      "cell_type": "code",
      "source": [
        "print(' !!! 주인장 픽 집가는길 노래 추천 !!! ')\n",
        "\n",
        "songForYou = ''\n",
        "\n",
        "firstQ = input(' 음악좀 들으세요? (y/n): ').strip().lower()\n",
        "if firstQ == 'y':\n",
        "    secondQ = input(' 내적댄스 부르는 노래 어떠세요? (y/n): ').strip().lower()\n",
        "    if secondQ == 'y':\n",
        "        thirdQ = input(' 하우스 장르는요? (y/n): ').strip().lower()\n",
        "        if thirdQ == 'y':\n",
        "            songForYou = ' Yaeji - Raingurl '\n",
        "        elif thirdQ == 'n':\n",
        "            songForYou = ' Do It - Tuxedo '\n",
        "        else:\n",
        "            print(' 다시 해주세용.. ')\n",
        "    else:\n",
        "        fourthQ = input(' 잔잔한 인디 한곡 드릴까요? (y/n): ').strip().lower()\n",
        "        if fourthQ == 'y':\n",
        "            songForYou = ' Damons year - F.U.Y '\n",
        "        elif fourthQ == 'n':\n",
        "            fifthQ = input(' 신나는 인디 한곡 드릴까요? (y/n): ').strip().lower()\n",
        "            if fifthQ == 'y':\n",
        "                songForYou = ' 마치(MRCH) - 항복 '\n",
        "            else:\n",
        "                songForYou = ' 이츠 - 파도 '\n",
        "        else:\n",
        "            print(' 다시 해주세용.. ')\n",
        "elif firstQ == 'n':\n",
        "    print(' 아쉽지만 없습니다.. ')\n",
        "else:\n",
        "    print(' 다시 해주세용.. ')\n",
        "\n",
        "if songForYou:\n",
        "    print('오늘 집갈때 {} 들으세요~'.format(songForYou))\n"
      ],
      "metadata": {
        "id": "VNwq519HUCPA"
      },
      "execution_count": null,
      "outputs": []
    }
  ]
}