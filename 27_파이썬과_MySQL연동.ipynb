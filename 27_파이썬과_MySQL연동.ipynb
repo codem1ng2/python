{
  "cells": [
    {
      "cell_type": "markdown",
      "metadata": {
        "id": "view-in-github",
        "colab_type": "text"
      },
      "source": [
        "<a href=\"https://colab.research.google.com/github/codem1ng2/python/blob/main/27_%E1%84%91%E1%85%A1%E1%84%8B%E1%85%B5%E1%84%8A%E1%85%A5%E1%86%AB%E1%84%80%E1%85%AA_MySQL%E1%84%8B%E1%85%A7%E1%86%AB%E1%84%83%E1%85%A9%E1%86%BC.ipynb\" target=\"_parent\"><img src=\"https://colab.research.google.com/assets/colab-badge.svg\" alt=\"Open In Colab\"/></a>"
      ]
    },
    {
      "cell_type": "markdown",
      "id": "2473c54d-f021-4514-9b9f-284f712974ac",
      "metadata": {
        "id": "2473c54d-f021-4514-9b9f-284f712974ac"
      },
      "source": [
        "# **1. mysqlclient**\n",
        "* 파이썬에서 MySQL 데이터베이스와 상호작용하기 위해 사용하는 라이브러리\n",
        "* PyMySQL, mysqlclient를 가장 많이 사용함\n",
        "* 사용법은 비슷하나 mysqlclient가 속도상으로 유리하기 때문에 mysqlclient를 권장하고 있음"
      ]
    },
    {
      "cell_type": "code",
      "execution_count": null,
      "id": "fb44020e-c0d6-4f23-82f2-0c3d1a31b322",
      "metadata": {
        "id": "fb44020e-c0d6-4f23-82f2-0c3d1a31b322",
        "outputId": "4e144731-7d9f-49ee-929b-44e50a548626"
      },
      "outputs": [
        {
          "name": "stdout",
          "output_type": "stream",
          "text": [
            "Requirement already satisfied: mysqlclient in /Users/mingi/.pyenv/versions/3.10.7/lib/python3.10/site-packages (2.2.4)\n"
          ]
        }
      ],
      "source": [
        "!pip install mysqlclient"
      ]
    },
    {
      "cell_type": "code",
      "execution_count": null,
      "id": "6ca8f21a-c87c-45ca-a930-6c018436d8c0",
      "metadata": {
        "id": "6ca8f21a-c87c-45ca-a930-6c018436d8c0",
        "outputId": "bcc71dc0-5183-44e5-ae31-d5c81ca33a26"
      },
      "outputs": [
        {
          "name": "stdout",
          "output_type": "stream",
          "text": [
            "Requirement already satisfied: pip in /Users/mingi/.pyenv/versions/3.10.7/lib/python3.10/site-packages (24.2)\n",
            "Note: you may need to restart the kernel to use updated packages.\n"
          ]
        }
      ],
      "source": [
        "pip install --upgrade pip"
      ]
    },
    {
      "cell_type": "code",
      "execution_count": null,
      "id": "c4fc0318-bd68-4873-8f8d-e5770091585d",
      "metadata": {
        "id": "c4fc0318-bd68-4873-8f8d-e5770091585d"
      },
      "outputs": [],
      "source": [
        "import MySQLdb"
      ]
    },
    {
      "cell_type": "markdown",
      "id": "475fe067-d37a-490a-bb6b-23232d0ab716",
      "metadata": {
        "id": "475fe067-d37a-490a-bb6b-23232d0ab716"
      },
      "source": [
        "### 1-1. MySQL 접속하기\n",
        "* MySQLdb.connect(host='ip주소'', user='사용자명', password='비밀번호', db='데이터베이스명')"
      ]
    },
    {
      "cell_type": "code",
      "execution_count": null,
      "id": "2ba6c80b-3e0e-4440-b28b-4c8dd7dab3e2",
      "metadata": {
        "id": "2ba6c80b-3e0e-4440-b28b-4c8dd7dab3e2",
        "outputId": "7ba44d73-f98a-4f15-d15e-2ee159628ee1"
      },
      "outputs": [
        {
          "name": "stdout",
          "output_type": "stream",
          "text": [
            "<_mysql.connection open to 'localhost' at 0x141898810>\n"
          ]
        }
      ],
      "source": [
        "db = MySQLdb.connect(host='localhost', user='root', password='rootroot', db='kdt')\n",
        "print(db)"
      ]
    },
    {
      "cell_type": "markdown",
      "id": "ab11328d-8cc5-4674-aa48-328b52a08739",
      "metadata": {
        "id": "ab11328d-8cc5-4674-aa48-328b52a08739"
      },
      "source": [
        "### 1-2. cursor 생성하기\n",
        "* 하나의 데이터베이스 connection에 대해 독립적으로 SQL문을 실행할 수 있는 작업환경을 제공하는 객체\n",
        "* 하나의 connection에 동시에 한 개의 cursor만 생성할 수 있으며, cursor를 통해 SQL문을 실행하면 실행결과를 튜플 단위로 반환"
      ]
    },
    {
      "cell_type": "code",
      "execution_count": null,
      "id": "988a493b-3786-4447-8a26-60e37eba7c2d",
      "metadata": {
        "id": "988a493b-3786-4447-8a26-60e37eba7c2d",
        "outputId": "8798f55a-534d-4715-f2d5-e00f0f2d31a0"
      },
      "outputs": [
        {
          "data": {
            "text/plain": [
              "6"
            ]
          },
          "execution_count": 51,
          "metadata": {},
          "output_type": "execute_result"
        }
      ],
      "source": [
        "cur = db.cursor()\n",
        "cur.execute('select userid, name, gender, hp from member') # 총 row갯수를 반환"
      ]
    },
    {
      "cell_type": "markdown",
      "id": "4102a015-1018-4443-a28d-df7d8bdbe791",
      "metadata": {
        "id": "4102a015-1018-4443-a28d-df7d8bdbe791"
      },
      "source": [
        "### 1-3. SQL문의 결과 가져오기\n",
        "* fetchall(): 한번에 모든 tuple을 가져옴, 검색 결과가 매우 많다면 메모리 오버헤드가 발생할 수 있음\n",
        "* fetchine(): 한번에 하나의 tuple을 가져옴, 다시 fetchone() 메서드를 호출하면 다음 데이터를 가져옴"
      ]
    },
    {
      "cell_type": "code",
      "execution_count": null,
      "id": "94268189-7946-4d56-a304-b6e35c3114c4",
      "metadata": {
        "id": "94268189-7946-4d56-a304-b6e35c3114c4",
        "outputId": "1979f77b-7c9b-4d9a-96b5-e9e4c1b4509a"
      },
      "outputs": [
        {
          "name": "stdout",
          "output_type": "stream",
          "text": [
            "(('apple', '김사과', 'F', '010-1111-1111'), ('avocado', '최아보', 'F', '010-4444-4444'), ('banana', '반하나', 'F', '010-2222-2222'), ('cherry', '체리', 'F', '010-6666-6666'), ('melon', '이메론', 'M', '010-5555-5555'), ('orange', '오렌지', 'M', '010-3333-3333'))\n"
          ]
        }
      ],
      "source": [
        "data = cur.fetchall()\n",
        "print(data)"
      ]
    },
    {
      "cell_type": "code",
      "execution_count": null,
      "id": "00c735d9-1ddd-42ef-9469-2fe3849981a3",
      "metadata": {
        "id": "00c735d9-1ddd-42ef-9469-2fe3849981a3",
        "outputId": "ef811b94-2ac5-4563-9dff-85aa2a7ff875"
      },
      "outputs": [
        {
          "name": "stdout",
          "output_type": "stream",
          "text": [
            "()\n"
          ]
        }
      ],
      "source": [
        "data = cur.fetchall()\n",
        "print(data)"
      ]
    },
    {
      "cell_type": "code",
      "execution_count": null,
      "id": "8c38a162-9777-493b-be8d-daccd60251eb",
      "metadata": {
        "id": "8c38a162-9777-493b-be8d-daccd60251eb",
        "outputId": "39fe9f28-b860-4951-cb48-fd489447c62e"
      },
      "outputs": [
        {
          "data": {
            "text/plain": [
              "6"
            ]
          },
          "execution_count": 54,
          "metadata": {},
          "output_type": "execute_result"
        }
      ],
      "source": [
        "sql = 'select userid, name, gender, hp from member'\n",
        "cur.execute(sql)"
      ]
    },
    {
      "cell_type": "code",
      "execution_count": null,
      "id": "a12fe18e-74f5-42b0-bc6c-b4bb0f79b083",
      "metadata": {
        "id": "a12fe18e-74f5-42b0-bc6c-b4bb0f79b083",
        "outputId": "e7b2d5f0-4b5a-484a-d478-2bab5a51da9c"
      },
      "outputs": [
        {
          "name": "stdout",
          "output_type": "stream",
          "text": [
            "('apple', '김사과', 'F', '010-1111-1111')\n"
          ]
        }
      ],
      "source": [
        "row = cur.fetchone()\n",
        "print(row)"
      ]
    },
    {
      "cell_type": "code",
      "execution_count": null,
      "id": "656d27eb-5fd3-458e-858b-0feb93f6afa4",
      "metadata": {
        "id": "656d27eb-5fd3-458e-858b-0feb93f6afa4",
        "outputId": "11052743-ae2e-489b-af6a-14d609bc5511"
      },
      "outputs": [
        {
          "name": "stdout",
          "output_type": "stream",
          "text": [
            "('avocado', '최아보', 'F', '010-4444-4444')\n"
          ]
        }
      ],
      "source": [
        "row = cur.fetchone()\n",
        "print(row)"
      ]
    },
    {
      "cell_type": "code",
      "execution_count": null,
      "id": "f8d94960-198a-4175-bb74-1ef8e227cd2b",
      "metadata": {
        "id": "f8d94960-198a-4175-bb74-1ef8e227cd2b",
        "outputId": "ee19b4df-d837-41f3-e955-4ae16fc5d375"
      },
      "outputs": [
        {
          "name": "stdout",
          "output_type": "stream",
          "text": [
            "('banana', '반하나', 'F', '010-2222-2222')\n"
          ]
        }
      ],
      "source": [
        "row = cur.fetchone()\n",
        "print(row)"
      ]
    },
    {
      "cell_type": "code",
      "execution_count": null,
      "id": "d371a24b-d31f-4462-8b04-0be8995e9dac",
      "metadata": {
        "id": "d371a24b-d31f-4462-8b04-0be8995e9dac",
        "outputId": "c8e9f4fe-2c91-49b4-ea20-023d440912e5"
      },
      "outputs": [
        {
          "name": "stdout",
          "output_type": "stream",
          "text": [
            "('cherry', '체리', 'F', '010-6666-6666')\n"
          ]
        }
      ],
      "source": [
        "row = cur.fetchone()\n",
        "print(row)"
      ]
    },
    {
      "cell_type": "code",
      "execution_count": null,
      "id": "dd33c38d-c381-4a94-84f5-719f8dc4e4b5",
      "metadata": {
        "id": "dd33c38d-c381-4a94-84f5-719f8dc4e4b5",
        "outputId": "9dc4bdcd-0b34-45f7-a85a-176e34443261"
      },
      "outputs": [
        {
          "name": "stdout",
          "output_type": "stream",
          "text": [
            "('melon', '이메론', 'M', '010-5555-5555')\n"
          ]
        }
      ],
      "source": [
        "row = cur.fetchone()\n",
        "print(row)"
      ]
    },
    {
      "cell_type": "code",
      "execution_count": null,
      "id": "ff5bf74c-831f-4305-8087-8f05aa1412ce",
      "metadata": {
        "id": "ff5bf74c-831f-4305-8087-8f05aa1412ce",
        "outputId": "ab957fea-db85-4654-d658-c4074909674e"
      },
      "outputs": [
        {
          "name": "stdout",
          "output_type": "stream",
          "text": [
            "('orange', '오렌지', 'M', '010-3333-3333')\n"
          ]
        }
      ],
      "source": [
        "row = cur.fetchone()\n",
        "print(row)"
      ]
    },
    {
      "cell_type": "code",
      "execution_count": null,
      "id": "8bfc2c49-d78c-444a-bfda-6d080f2112f1",
      "metadata": {
        "id": "8bfc2c49-d78c-444a-bfda-6d080f2112f1",
        "outputId": "d9ee111c-0865-47ad-d404-b810e108728b"
      },
      "outputs": [
        {
          "name": "stdout",
          "output_type": "stream",
          "text": [
            "None\n"
          ]
        }
      ],
      "source": [
        "row = cur.fetchone()\n",
        "print(row)"
      ]
    },
    {
      "cell_type": "code",
      "execution_count": null,
      "id": "386ed4d8-df44-46c8-a229-16126ab73642",
      "metadata": {
        "id": "386ed4d8-df44-46c8-a229-16126ab73642",
        "outputId": "0b051f9f-1117-4bf0-f29b-89bb97dd6328"
      },
      "outputs": [
        {
          "data": {
            "text/plain": [
              "6"
            ]
          },
          "execution_count": 62,
          "metadata": {},
          "output_type": "execute_result"
        }
      ],
      "source": [
        "cur.execute(sql)"
      ]
    },
    {
      "cell_type": "code",
      "execution_count": null,
      "id": "29a08cc8-e40e-4b03-97a2-8e31e44c636a",
      "metadata": {
        "id": "29a08cc8-e40e-4b03-97a2-8e31e44c636a",
        "outputId": "3cd4ab5e-29f1-4d61-bbed-63b37ff458ce"
      },
      "outputs": [
        {
          "name": "stdout",
          "output_type": "stream",
          "text": [
            "('apple', '김사과', 'F', '010-1111-1111')\n",
            "('avocado', '최아보', 'F', '010-4444-4444')\n",
            "('banana', '반하나', 'F', '010-2222-2222')\n",
            "('cherry', '체리', 'F', '010-6666-6666')\n",
            "('melon', '이메론', 'M', '010-5555-5555')\n",
            "('orange', '오렌지', 'M', '010-3333-3333')\n"
          ]
        }
      ],
      "source": [
        "while True:\n",
        "    row = cur.fetchone()\n",
        "    if row:\n",
        "        print(row)\n",
        "    else:\n",
        "        break"
      ]
    },
    {
      "cell_type": "markdown",
      "id": "a916484e-38e3-4914-bb19-962906f3952d",
      "metadata": {
        "id": "a916484e-38e3-4914-bb19-962906f3952d"
      },
      "source": [
        "### 1-4. 딕셔너리 형태로 결과를 반환하기\n",
        "* cursor(MySQLdb.cursors.DictCursor)"
      ]
    },
    {
      "cell_type": "code",
      "execution_count": null,
      "id": "23ccf5a1-bf12-4001-bffb-5fbc8caea926",
      "metadata": {
        "id": "23ccf5a1-bf12-4001-bffb-5fbc8caea926",
        "outputId": "3ae9ab7c-bd1f-489c-cded-9a6c12cab69e"
      },
      "outputs": [
        {
          "data": {
            "text/plain": [
              "6"
            ]
          },
          "execution_count": 64,
          "metadata": {},
          "output_type": "execute_result"
        }
      ],
      "source": [
        "cur.execute(sql)"
      ]
    },
    {
      "cell_type": "code",
      "execution_count": null,
      "id": "57496621-8a27-4f17-84a4-d84626cceb0e",
      "metadata": {
        "id": "57496621-8a27-4f17-84a4-d84626cceb0e",
        "outputId": "e2333cca-ebdb-4bca-aabb-0a878f3a2861"
      },
      "outputs": [
        {
          "name": "stdout",
          "output_type": "stream",
          "text": [
            "({'userid': 'apple', 'name': '김사과', 'gender': 'F', 'hp': '010-1111-1111'}, {'userid': 'avocado', 'name': '최아보', 'gender': 'F', 'hp': '010-4444-4444'}, {'userid': 'banana', 'name': '반하나', 'gender': 'F', 'hp': '010-2222-2222'}, {'userid': 'cherry', 'name': '체리', 'gender': 'F', 'hp': '010-6666-6666'}, {'userid': 'melon', 'name': '이메론', 'gender': 'M', 'hp': '010-5555-5555'}, {'userid': 'orange', 'name': '오렌지', 'gender': 'M', 'hp': '010-3333-3333'})\n"
          ]
        }
      ],
      "source": [
        "cur = db.cursor(MySQLdb.cursors.DictCursor)\n",
        "sql = 'select userid, name, gender, hp from member'\n",
        "cur.execute(sql)\n",
        "result = cur.fetchall()\n",
        "print(result)"
      ]
    },
    {
      "cell_type": "code",
      "execution_count": null,
      "id": "7224d945-bcda-4a0f-ba84-df6bac96fed9",
      "metadata": {
        "id": "7224d945-bcda-4a0f-ba84-df6bac96fed9",
        "outputId": "ce32709a-ba3c-4336-c9bf-4e911e97d149"
      },
      "outputs": [
        {
          "data": {
            "text/plain": [
              "6"
            ]
          },
          "execution_count": 66,
          "metadata": {},
          "output_type": "execute_result"
        }
      ],
      "source": [
        "cur.execute(sql)"
      ]
    },
    {
      "cell_type": "markdown",
      "id": "3db7253b-1c49-46ae-811a-eab2cac3181e",
      "metadata": {
        "id": "3db7253b-1c49-46ae-811a-eab2cac3181e"
      },
      "source": [
        "### 문제\n",
        "* member 테이블의 데이터를 하나의 row씩 딕셔너리로 가져와 아래와 같이 출력해보자\n",
        "* 아이디: xxx, 이름: xxx, 성별:xxx,전화번호: xxx"
      ]
    },
    {
      "cell_type": "code",
      "execution_count": null,
      "id": "ff99deb6-e580-43d2-b9ff-d1d459b47254",
      "metadata": {
        "id": "ff99deb6-e580-43d2-b9ff-d1d459b47254",
        "outputId": "235ed0b5-a068-43f4-a090-79275ce6f174"
      },
      "outputs": [
        {
          "name": "stdout",
          "output_type": "stream",
          "text": [
            "아이디:apple,이름:김사과,성별:F,전화번호:010-1111-1111\n",
            "아이디:avocado,이름:최아보,성별:F,전화번호:010-4444-4444\n",
            "아이디:banana,이름:반하나,성별:F,전화번호:010-2222-2222\n",
            "아이디:cherry,이름:체리,성별:F,전화번호:010-6666-6666\n",
            "아이디:melon,이름:이메론,성별:M,전화번호:010-5555-5555\n",
            "아이디:orange,이름:오렌지,성별:M,전화번호:010-3333-3333\n"
          ]
        }
      ],
      "source": [
        "cur = db.cursor(MySQLdb.cursors.DictCursor)\n",
        "sql = 'select userid, name, gender, hp from member'\n",
        "cur.execute(sql)\n",
        "\n",
        "while True:\n",
        "    result = cur.fetchone()\n",
        "    if result:\n",
        "        print(f\"아이디:{result['userid']},이름:{result['name']},성별:{result['gender']},전화번호:{result['hp']}\")\n",
        "    else:\n",
        "        break"
      ]
    },
    {
      "cell_type": "markdown",
      "id": "d3cb5cc9-3a28-4c36-9f00-1d862cf73f31",
      "metadata": {
        "id": "d3cb5cc9-3a28-4c36-9f00-1d862cf73f31"
      },
      "source": [
        "### 1-5. Cursor와 Connection닫기"
      ]
    },
    {
      "cell_type": "code",
      "execution_count": null,
      "id": "2876f241-7a50-46bf-a5f5-3c9ac5b3bfce",
      "metadata": {
        "id": "2876f241-7a50-46bf-a5f5-3c9ac5b3bfce"
      },
      "outputs": [],
      "source": [
        "cur.close() # 커서 닫기\n",
        "db.close() # 커넥션 닫기"
      ]
    },
    {
      "cell_type": "markdown",
      "id": "8a09d560-bec9-4e54-8e18-a9fd179bd278",
      "metadata": {
        "id": "8a09d560-bec9-4e54-8e18-a9fd179bd278"
      },
      "source": [
        "# 2.데이터 삽입하기"
      ]
    },
    {
      "cell_type": "code",
      "execution_count": null,
      "id": "e9849193-088a-4d3a-9897-eee71a2b4ddc",
      "metadata": {
        "id": "e9849193-088a-4d3a-9897-eee71a2b4ddc"
      },
      "outputs": [],
      "source": [
        "db = MySQLdb.connect(host='localhost', user='root', password='rootroot', db='kdt')\n",
        "cur = db.cursor()\n"
      ]
    },
    {
      "cell_type": "code",
      "execution_count": null,
      "id": "1dce2e2b-d80b-4962-be0b-e858aaf37a62",
      "metadata": {
        "id": "1dce2e2b-d80b-4962-be0b-e858aaf37a62"
      },
      "outputs": [],
      "source": [
        "sql = 'insert into member (userid, userpw, name, hp, email, gender, ssn1, ssn2, ) values(%s, %s, %s, %s, %s, %s, %s, %s);'"
      ]
    },
    {
      "cell_type": "code",
      "execution_count": null,
      "id": "d8be6b43-c0cc-419b-b8b1-abd0be4cbbf3",
      "metadata": {
        "id": "d8be6b43-c0cc-419b-b8b1-abd0be4cbbf3"
      },
      "outputs": [],
      "source": [
        "data = ('mango', '0000', '마앙고', '010-0000-0000', 'mango@mango.com', 'M', '000000', '111111')"
      ]
    },
    {
      "cell_type": "code",
      "execution_count": null,
      "id": "1bda4c29-d3e8-4876-9171-dd32cd32a22b",
      "metadata": {
        "id": "1bda4c29-d3e8-4876-9171-dd32cd32a22b"
      },
      "outputs": [],
      "source": [
        "cur.execute(sql, data)\n",
        "cur = db.cursor()"
      ]
    },
    {
      "cell_type": "code",
      "execution_count": null,
      "id": "c0c734d3-045e-4f3a-8a4c-41fb57ca2143",
      "metadata": {
        "id": "c0c734d3-045e-4f3a-8a4c-41fb57ca2143"
      },
      "outputs": [],
      "source": [
        "sql = 'insert into member(userid, userpw, name, hp, email, gender, ssn1, ssn2) values (%s,%s,%s,%s,%s,%s,%s,%s)'\n",
        "data = [('berry', '9999', '배애리', '010-9999-9999', 'berry@berry.com', '여자', '999999', '2222222'), ('grapes', '8888', '표도르', '010-8888-8888', 'grapes@grapse.com', '남자', '888888', '8888888')]"
      ]
    },
    {
      "cell_type": "code",
      "execution_count": null,
      "id": "7b7e3a92-eb1d-4bba-94ff-366cfdee236d",
      "metadata": {
        "id": "7b7e3a92-eb1d-4bba-94ff-366cfdee236d"
      },
      "outputs": [],
      "source": [
        "cur.executemany(sql, data)\n",
        "db.commit()"
      ]
    },
    {
      "cell_type": "code",
      "execution_count": null,
      "id": "6ccb1d73-de85-407d-ac15-d424c09cfbc0",
      "metadata": {
        "id": "6ccb1d73-de85-407d-ac15-d424c09cfbc0"
      },
      "outputs": [],
      "source": [
        "cur.close() # 커서 닫기\n",
        "db.close() # 커넥션 닫기"
      ]
    },
    {
      "cell_type": "markdown",
      "id": "1a32ae0a-d58d-4b16-b644-6fdcb9077140",
      "metadata": {
        "id": "1a32ae0a-d58d-4b16-b644-6fdcb9077140"
      },
      "source": [
        "### 문제2\n",
        "* 회원가입 프로그램을 만들어보자\n",
        "* 단, 중복 데이터로 인한 오류시 \"다시 입력하세요\" 라는 오류처리와 함께 다시 등록할 수 있도록 함\n",
        "* 단, 회원가입 후 \"추가로 가입하겠습니까?(y/n)\"를 입력받아 추가로 입력할 수 있도록 함\n",
        "\n",
        "```\n",
        "아이디를 입력하세요:xxx\n",
        "비밀번호를 입력하세요:xxx\n",
        "이름을 입력하세요:xxx\n",
        "전화번호를 입력하세요:xxx\n",
        "이메일을 입력하세요:xxx\n",
        "성별을 입력하세요:xxx\n",
        "주민번호 앞자리를 입력하세요:xxx\n",
        "주민번호 뒷자리를 입력하세요:xxx\n",
        "우편번호를 입력하세요:xxx\n",
        "주소를 입력하세요:xxx\n",
        "상세주소를 입력하세요:xxx\n",
        "참고사항을 입력하세요:xxx\n",
        "```"
      ]
    },
    {
      "cell_type": "code",
      "execution_count": null,
      "id": "95c94582-afcf-4620-9bc4-ff9dcd5d316d",
      "metadata": {
        "id": "95c94582-afcf-4620-9bc4-ff9dcd5d316d",
        "outputId": "0d54aa48-f6c9-4ef0-cb58-293eae79e859"
      },
      "outputs": [
        {
          "ename": "TypeError",
          "evalue": "BaseCursor.executemany() missing 1 required positional argument: 'args'",
          "output_type": "error",
          "traceback": [
            "\u001b[0;31m---------------------------------------------------------------------------\u001b[0m",
            "\u001b[0;31mTypeError\u001b[0m                                 Traceback (most recent call last)",
            "Cell \u001b[0;32mIn[104], line 3\u001b[0m\n\u001b[1;32m      1\u001b[0m db \u001b[38;5;241m=\u001b[39m MySQLdb\u001b[38;5;241m.\u001b[39mconnect(host\u001b[38;5;241m=\u001b[39m\u001b[38;5;124m'\u001b[39m\u001b[38;5;124mlocalhost\u001b[39m\u001b[38;5;124m'\u001b[39m, user\u001b[38;5;241m=\u001b[39m\u001b[38;5;124m'\u001b[39m\u001b[38;5;124mroot\u001b[39m\u001b[38;5;124m'\u001b[39m, password\u001b[38;5;241m=\u001b[39m\u001b[38;5;124m'\u001b[39m\u001b[38;5;124mrootroot\u001b[39m\u001b[38;5;124m'\u001b[39m, db\u001b[38;5;241m=\u001b[39m\u001b[38;5;124m'\u001b[39m\u001b[38;5;124mkdt\u001b[39m\u001b[38;5;124m'\u001b[39m)\n\u001b[1;32m      2\u001b[0m sql \u001b[38;5;241m=\u001b[39m \u001b[38;5;124m'\u001b[39m\u001b[38;5;124minsert into member(userid, userpw, name, hp, email, gender, ssn1, ssn2 ) values(\u001b[39m\u001b[38;5;132;01m%s\u001b[39;00m\u001b[38;5;124m, \u001b[39m\u001b[38;5;132;01m%s\u001b[39;00m\u001b[38;5;124m, \u001b[39m\u001b[38;5;132;01m%s\u001b[39;00m\u001b[38;5;124m, \u001b[39m\u001b[38;5;132;01m%s\u001b[39;00m\u001b[38;5;124m, \u001b[39m\u001b[38;5;132;01m%s\u001b[39;00m\u001b[38;5;124m, \u001b[39m\u001b[38;5;132;01m%s\u001b[39;00m\u001b[38;5;124m, \u001b[39m\u001b[38;5;132;01m%s\u001b[39;00m\u001b[38;5;124m, \u001b[39m\u001b[38;5;132;01m%s\u001b[39;00m\u001b[38;5;124m);\u001b[39m\u001b[38;5;124m'\u001b[39m\n\u001b[0;32m----> 3\u001b[0m \u001b[43mcur\u001b[49m\u001b[38;5;241;43m.\u001b[39;49m\u001b[43mexecutemany\u001b[49m\u001b[43m(\u001b[49m\u001b[43msql\u001b[49m\u001b[43m)\u001b[49m\n\u001b[1;32m      4\u001b[0m cur \u001b[38;5;241m=\u001b[39m db\u001b[38;5;241m.\u001b[39mcursor()\n\u001b[1;32m      6\u001b[0m \u001b[38;5;28;01mwhile\u001b[39;00m \u001b[38;5;28;01mTrue\u001b[39;00m:\n",
            "\u001b[0;31mTypeError\u001b[0m: BaseCursor.executemany() missing 1 required positional argument: 'args'"
          ]
        }
      ],
      "source": [
        "db = MySQLdb.connect(host='localhost', user='root', password='rootroot', db='kdt')\n",
        "sql = 'insert into member(userid, userpw, name, hp, email, gender, ssn1, ssn2 ) values(%s, %s, %s, %s, %s, %s, %s, %s);'\n",
        "cur.executemany(sql)\n",
        "cur = db.cursor()\n",
        "\n",
        "while True:\n",
        "    name = input('사용자 이름 입력:')\n",
        "    password = input('사용자 비밀번호 입력:')\n",
        "    try:\n",
        "        cursor.execute(sql)\n",
        "        cur.commit()\n",
        "        print(f\"{name}님, 회원가입 완료.\")\n",
        "        while True:\n",
        "            reg_agian = input(\"추가로 가입하겠습니까? (y/n): \").lower()\n",
        "            if reg_again =='y':\n",
        "                break\n",
        "            elif reg_again =='n':\n",
        "                print('끝')\n",
        "                cursor.close()\n",
        "                cur.close()\n",
        "                return\n",
        "            else:\n",
        "                print('잘못된 입력. y or n 만')\n",
        "\n",
        "    except MySQLdb.IntegrityError:\n",
        "        print(\"이미 존재하는 사용자입니다. 다시 입력하세요.\")\n"
      ]
    },
    {
      "cell_type": "code",
      "execution_count": null,
      "id": "7ae0550e-4b8d-4f53-addd-53b0685bd94d",
      "metadata": {
        "id": "7ae0550e-4b8d-4f53-addd-53b0685bd94d",
        "outputId": "da86e6d8-ff21-49ec-a2e9-78b2e57872d5"
      },
      "outputs": [
        {
          "name": "stdin",
          "output_type": "stream",
          "text": [
            "사용자 아이디 입력:  1\n",
            "사용자 비밀번호 입력:  1\n",
            "사용자 이름 입력:  1\n",
            "휴대폰 번호 입력:  11\n",
            "이메일 입력:  11\n",
            "성별 입력 (M/F):  m\n",
            "주민등록번호 앞자리 입력:  111111\n",
            "주민등록번호 뒷자리 입력:  2222222\n",
            "우편번호 뒷자리 입력:  123\n",
            "주서 입력:  123\n",
            "주소 입력:  432\n",
            "주소 입력:  123\n"
          ]
        },
        {
          "ename": "ProgrammingError",
          "evalue": "not enough arguments for format string",
          "output_type": "error",
          "traceback": [
            "\u001b[0;31m---------------------------------------------------------------------------\u001b[0m",
            "\u001b[0;31mTypeError\u001b[0m                                 Traceback (most recent call last)",
            "File \u001b[0;32m~/.pyenv/versions/3.10.7/lib/python3.10/site-packages/MySQLdb/cursors.py:200\u001b[0m, in \u001b[0;36mBaseCursor._mogrify\u001b[0;34m(self, query, args)\u001b[0m\n\u001b[1;32m    199\u001b[0m \u001b[38;5;28;01mtry\u001b[39;00m:\n\u001b[0;32m--> 200\u001b[0m     query \u001b[38;5;241m=\u001b[39m \u001b[43mquery\u001b[49m\u001b[43m \u001b[49m\u001b[38;5;241;43m%\u001b[39;49m\u001b[43m \u001b[49m\u001b[43margs\u001b[49m\n\u001b[1;32m    201\u001b[0m \u001b[38;5;28;01mexcept\u001b[39;00m \u001b[38;5;167;01mTypeError\u001b[39;00m \u001b[38;5;28;01mas\u001b[39;00m m:\n",
            "\u001b[0;31mTypeError\u001b[0m: not enough arguments for format string",
            "\nDuring handling of the above exception, another exception occurred:\n",
            "\u001b[0;31mProgrammingError\u001b[0m                          Traceback (most recent call last)",
            "Cell \u001b[0;32mIn[6], line 27\u001b[0m\n\u001b[1;32m     23\u001b[0m address3 \u001b[38;5;241m=\u001b[39m \u001b[38;5;28minput\u001b[39m(\u001b[38;5;124m'\u001b[39m\u001b[38;5;124m주소 입력: \u001b[39m\u001b[38;5;124m'\u001b[39m)\n\u001b[1;32m     25\u001b[0m \u001b[38;5;28;01mtry\u001b[39;00m:\n\u001b[1;32m     26\u001b[0m     \u001b[38;5;66;03m# SQL 쿼리 실행, 사용자 입력 데이터를 삽입\u001b[39;00m\n\u001b[0;32m---> 27\u001b[0m     \u001b[43mcur\u001b[49m\u001b[38;5;241;43m.\u001b[39;49m\u001b[43mexecute\u001b[49m\u001b[43m(\u001b[49m\u001b[43msql\u001b[49m\u001b[43m,\u001b[49m\u001b[43m \u001b[49m\u001b[43m(\u001b[49m\u001b[43muserid\u001b[49m\u001b[43m,\u001b[49m\u001b[43m \u001b[49m\u001b[43muserpw\u001b[49m\u001b[43m,\u001b[49m\u001b[43m \u001b[49m\u001b[43mname\u001b[49m\u001b[43m,\u001b[49m\u001b[43m \u001b[49m\u001b[43mhp\u001b[49m\u001b[43m,\u001b[49m\u001b[43m \u001b[49m\u001b[43memail\u001b[49m\u001b[43m,\u001b[49m\u001b[43m \u001b[49m\u001b[43mgender\u001b[49m\u001b[43m,\u001b[49m\u001b[43m \u001b[49m\u001b[43mssn1\u001b[49m\u001b[43m,\u001b[49m\u001b[43m \u001b[49m\u001b[43mssn2\u001b[49m\u001b[43m)\u001b[49m\u001b[43m)\u001b[49m\n\u001b[1;32m     28\u001b[0m     db\u001b[38;5;241m.\u001b[39mcommit()  \u001b[38;5;66;03m# 변경 사항을 커밋\u001b[39;00m\n\u001b[1;32m     30\u001b[0m     \u001b[38;5;28mprint\u001b[39m(\u001b[38;5;124mf\u001b[39m\u001b[38;5;124m\"\u001b[39m\u001b[38;5;132;01m{\u001b[39;00mname\u001b[38;5;132;01m}\u001b[39;00m\u001b[38;5;124m님, 회원가입이 완료되었습니다.\u001b[39m\u001b[38;5;124m\"\u001b[39m)\n",
            "File \u001b[0;32m~/.pyenv/versions/3.10.7/lib/python3.10/site-packages/MySQLdb/cursors.py:176\u001b[0m, in \u001b[0;36mBaseCursor.execute\u001b[0;34m(self, query, args)\u001b[0m\n\u001b[1;32m    163\u001b[0m \u001b[38;5;250m\u001b[39m\u001b[38;5;124;03m\"\"\"Execute a query.\u001b[39;00m\n\u001b[1;32m    164\u001b[0m \n\u001b[1;32m    165\u001b[0m \u001b[38;5;124;03mquery -- string, query to execute on server\u001b[39;00m\n\u001b[0;32m   (...)\u001b[0m\n\u001b[1;32m    172\u001b[0m \u001b[38;5;124;03mReturns integer represents rows affected, if any\u001b[39;00m\n\u001b[1;32m    173\u001b[0m \u001b[38;5;124;03m\"\"\"\u001b[39;00m\n\u001b[1;32m    174\u001b[0m \u001b[38;5;28mself\u001b[39m\u001b[38;5;241m.\u001b[39m_discard()\n\u001b[0;32m--> 176\u001b[0m mogrified_query \u001b[38;5;241m=\u001b[39m \u001b[38;5;28;43mself\u001b[39;49m\u001b[38;5;241;43m.\u001b[39;49m\u001b[43m_mogrify\u001b[49m\u001b[43m(\u001b[49m\u001b[43mquery\u001b[49m\u001b[43m,\u001b[49m\u001b[43m \u001b[49m\u001b[43margs\u001b[49m\u001b[43m)\u001b[49m\n\u001b[1;32m    178\u001b[0m \u001b[38;5;28;01massert\u001b[39;00m \u001b[38;5;28misinstance\u001b[39m(mogrified_query, (\u001b[38;5;28mbytes\u001b[39m, \u001b[38;5;28mbytearray\u001b[39m))\n\u001b[1;32m    179\u001b[0m res \u001b[38;5;241m=\u001b[39m \u001b[38;5;28mself\u001b[39m\u001b[38;5;241m.\u001b[39m_query(mogrified_query)\n",
            "File \u001b[0;32m~/.pyenv/versions/3.10.7/lib/python3.10/site-packages/MySQLdb/cursors.py:202\u001b[0m, in \u001b[0;36mBaseCursor._mogrify\u001b[0;34m(self, query, args)\u001b[0m\n\u001b[1;32m    200\u001b[0m         query \u001b[38;5;241m=\u001b[39m query \u001b[38;5;241m%\u001b[39m args\n\u001b[1;32m    201\u001b[0m     \u001b[38;5;28;01mexcept\u001b[39;00m \u001b[38;5;167;01mTypeError\u001b[39;00m \u001b[38;5;28;01mas\u001b[39;00m m:\n\u001b[0;32m--> 202\u001b[0m         \u001b[38;5;28;01mraise\u001b[39;00m ProgrammingError(\u001b[38;5;28mstr\u001b[39m(m))\n\u001b[1;32m    204\u001b[0m \u001b[38;5;28;01mreturn\u001b[39;00m query\n",
            "\u001b[0;31mProgrammingError\u001b[0m: not enough arguments for format string"
          ]
        }
      ],
      "source": [
        "import MySQLdb\n",
        "\n",
        "# MySQL 연결 설정\n",
        "db = MySQLdb.connect(host='localhost', user='root', password='rootroot', db='kdt')\n",
        "cur = db.cursor()\n",
        "\n",
        "# SQL 쿼리 (데이터 삽입)\n",
        "sql = 'INSERT INTO member(userid, userpw, name, hp, email, gender, ssn1, ssn2, zipcode, address1,address2,address3) VALUES (%s, %s, %s, %s, %s, %s, %s, %s, %s, %s, %s);'\n",
        "\n",
        "# 회원가입 반복\n",
        "while True:\n",
        "    userid = input('사용자 아이디 입력: ')\n",
        "    userpw = input('사용자 비밀번호 입력: ')\n",
        "    name = input('사용자 이름 입력: ')\n",
        "    hp = input('휴대폰 번호 입력: ')\n",
        "    email = input('이메일 입력: ')\n",
        "    gender = input('성별 입력 (M/F): ')\n",
        "    ssn1 = input('주민등록번호 앞자리 입력: ')\n",
        "    ssn2 = input('주민등록번호 뒷자리 입력: ')\n",
        "    zipcode = input('우편번호 뒷자리 입력: ')\n",
        "    address1 = input('주서 입력: ')\n",
        "    address2 = input('주소 입력: ')\n",
        "    address3 = input('주소 입력: ')\n",
        "\n",
        "    try:\n",
        "        # SQL 쿼리 실행, 사용자 입력 데이터를 삽입\n",
        "        cur.execute(sql, (userid, userpw, name, hp, email, gender, ssn1, ssn2))\n",
        "        db.commit()  # 변경 사항을 커밋\n",
        "\n",
        "        print(f\"{name}님, 회원가입이 완료되었습니다.\")\n",
        "\n",
        "        # 추가 가입 여부 묻기\n",
        "        while True:\n",
        "            reg_again = input(\"추가로 가입하겠습니까? (y/n): \").lower()\n",
        "            if reg_again == 'y':\n",
        "                break  # 다시 회원가입 루프로 돌아감\n",
        "            elif reg_again == 'n':\n",
        "                print('회원가입을 종료합니다.')\n",
        "                cur.close()  # 커서 닫기\n",
        "                db.close()  # 데이터베이스 연결 종료\n",
        "                exit()  # 프로그램 종료\n",
        "            else:\n",
        "                print(\"잘못된 입력입니다. y 또는 n을 입력하세요.\")\n",
        "                break\n",
        "    except MySQLdb.IntegrityError:\n",
        "        print(\"이미 존재하는 사용자입니다. 다시 입력하세요.\")\n",
        "\n",
        "cur.close()\n",
        "db.close()"
      ]
    },
    {
      "cell_type": "code",
      "execution_count": null,
      "id": "9e7e5c2c-f3cd-45ca-9bec-efe1a0c29897",
      "metadata": {
        "id": "9e7e5c2c-f3cd-45ca-9bec-efe1a0c29897"
      },
      "outputs": [],
      "source": [
        "cur.close()\n",
        "db.close()"
      ]
    },
    {
      "cell_type": "code",
      "execution_count": null,
      "id": "fcaf8fba-6b08-4402-818b-62e35931634a",
      "metadata": {
        "id": "fcaf8fba-6b08-4402-818b-62e35931634a",
        "outputId": "a4b4a7a3-8e9e-43ac-82ba-144fc08e1d67"
      },
      "outputs": [
        {
          "name": "stdin",
          "output_type": "stream",
          "text": [
            "아이디를 입력하세요:  kiwi\n",
            "비밀번호를 입력하세요:  11111\n",
            "이름을 입력하세요:  기위\n",
            "전화번호를 입력하세요:  010-1234-4213\n",
            "이메일을 입력하세요:  kiwi@kiwi.com\n",
            "성별을 입력하세요:  f\n",
            "주민번호 앞자리를 입력하세요:  011201\n",
            "주민번호 뒷자리를 입력하세요:  2012392\n",
            "우편번호를 입력하세요:  12345\n",
            "주소를 입력하세요:  서울시\n",
            "상세주소를 입력하세요:  강남구\n",
            "참고사항을 입력하세요:  강남미인\n"
          ]
        },
        {
          "name": "stdout",
          "output_type": "stream",
          "text": [
            "가입되었습니다\n"
          ]
        },
        {
          "name": "stdin",
          "output_type": "stream",
          "text": [
            "추가로 가입하겠습니까? (Y/N):  n\n"
          ]
        },
        {
          "name": "stdout",
          "output_type": "stream",
          "text": [
            "프로그램을 종료합니다\n"
          ]
        }
      ],
      "source": [
        "import MySQLdb\n",
        "db = MySQLdb.connect(host='localhost', user='root', password='rootroot', db='kdt')\n",
        "cur = db.cursor()\n",
        "while True:\n",
        "    try:\n",
        "        userid = input('아이디를 입력하세요: ')\n",
        "        userpw = input('비밀번호를 입력하세요: ')\n",
        "        name = input('이름을 입력하세요: ')\n",
        "        hp = input('전화번호를 입력하세요: ')\n",
        "        email = input('이메일을 입력하세요: ')\n",
        "        gender = input('성별을 입력하세요: ')\n",
        "        ssn1 = input('주민번호 앞자리를 입력하세요: ')\n",
        "        ssn2 = input('주민번호 뒷자리를 입력하세요: ')\n",
        "        zipcode = input('우편번호를 입력하세요: ')\n",
        "        address1 = input('주소를 입력하세요: ')\n",
        "        address2 = input('상세주소를 입력하세요: ')\n",
        "        address3 = input('참고사항을 입력하세요: ')\n",
        "        sql = 'insert into member(userid, userpw, name, hp, email, gender, ssn1, ssn2, zipcode, address1, address2, address3) values (%s, %s, %s, %s, %s, %s, %s, %s, %s, %s, %s, %s)'\n",
        "        data = (userid, userpw, name, hp, email, gender, ssn1, ssn2, zipcode, address1, address2, address3)\n",
        "        cur.execute(sql, data)\n",
        "        db.commit()\n",
        "        print('가입되었습니다')\n",
        "        yn = input('추가로 가입하겠습니까? (Y/N): ')\n",
        "        if yn.lower() == 'n':\n",
        "            print('프로그램을 종료합니다')\n",
        "            break\n",
        "    except Exception as e:\n",
        "        print('다시 입력하세요')\n",
        "cur.close()\n",
        "db.close()"
      ]
    },
    {
      "cell_type": "code",
      "execution_count": null,
      "id": "3094ed24-176d-4d0e-90dc-5d010aa8435c",
      "metadata": {
        "id": "3094ed24-176d-4d0e-90dc-5d010aa8435c",
        "outputId": "b6e28240-e3da-4e0a-bf6a-892d61924952"
      },
      "outputs": [
        {
          "name": "stdout",
          "output_type": "stream",
          "text": [
            "에러\n"
          ]
        }
      ],
      "source": [
        "sql = 'update member set zipcode=%s, address1=%s, address2=%s, address3=%s where userid=%s'\n",
        "data = ('12345', '서울','서초구', '서초동', 'banana')\n",
        "result = cur.execute(sql, data)\n",
        "db.commit()\n",
        "\n",
        "if result > 0:\n",
        "    print('수정됨')\n",
        "else:\n",
        "    print('에러')\n",
        "\n",
        "cur.close()\n",
        "db.close()"
      ]
    },
    {
      "cell_type": "markdown",
      "id": "2332fc0f-dec8-4957-b9ac-d39c7a2096be",
      "metadata": {
        "id": "2332fc0f-dec8-4957-b9ac-d39c7a2096be"
      },
      "source": [
        "# 4. 데이터 삭제하기"
      ]
    },
    {
      "cell_type": "code",
      "execution_count": null,
      "id": "259ab519-4f20-4521-b7d5-2a94e5a7e19c",
      "metadata": {
        "id": "259ab519-4f20-4521-b7d5-2a94e5a7e19c"
      },
      "outputs": [],
      "source": [
        "db = MySQLdb.connect(host='localhost', user='root', password='rootroot', db='kdt')\n",
        "cur = db.cursor()"
      ]
    },
    {
      "cell_type": "code",
      "execution_count": null,
      "id": "8c971012-bab8-4115-8a4e-80f391410d32",
      "metadata": {
        "id": "8c971012-bab8-4115-8a4e-80f391410d32",
        "outputId": "99402809-c3fd-44eb-97e9-80b5e9be06a8"
      },
      "outputs": [
        {
          "name": "stdout",
          "output_type": "stream",
          "text": [
            "deleted\n"
          ]
        }
      ],
      "source": [
        "sql = 'delete from member where userid=%s'\n",
        "result = cur.execute(sql, ('berry',))\n",
        "db.commit()\n",
        "\n",
        "if result > 0:\n",
        "    print('deleted')\n",
        "else:\n",
        "    print('error')\n",
        "\n",
        "cur.close()\n",
        "db.close()"
      ]
    },
    {
      "cell_type": "markdown",
      "id": "59b50fb6-f039-4414-9a02-fa9bc25fd414",
      "metadata": {
        "id": "59b50fb6-f039-4414-9a02-fa9bc25fd414"
      },
      "source": [
        "### 문제3\n",
        "* 로그인 프로그램을 작성 해보자\n",
        "* 단, 아이디와 비밀번호가 맞은 유저가 있을 경우 \"로그인 되었습니다\", 유저가 없을경우 \"아이디 또는 비밀번호를 확인하세요\" 라고 출력\n",
        "\n",
        "```\n",
        "아이디를 입력하세요:xxx\n",
        "비밀번호를 입력하세요:xxx\n",
        "```"
      ]
    },
    {
      "cell_type": "code",
      "execution_count": null,
      "id": "998e55de-3609-42ec-9630-cee68da7e8ba",
      "metadata": {
        "id": "998e55de-3609-42ec-9630-cee68da7e8ba",
        "outputId": "8fd70587-8645-41d8-bdae-910af0371ad4"
      },
      "outputs": [
        {
          "name": "stdin",
          "output_type": "stream",
          "text": [
            "아이디를 입력하세요:  apple\n",
            "비밀번호를 입력하세요:  1111\n"
          ]
        },
        {
          "name": "stdout",
          "output_type": "stream",
          "text": [
            "김사과님, 로그인\n",
            "오류 발생: name 'breakᅳ' is not defined\n"
          ]
        },
        {
          "name": "stdin",
          "output_type": "stream",
          "text": [
            "아이디를 입력하세요:  kiwi\n",
            "비밀번호를 입력하세요:  wiki\n"
          ]
        },
        {
          "name": "stdout",
          "output_type": "stream",
          "text": [
            "아이디나 비번 확인하셈 싯팔아\n"
          ]
        }
      ],
      "source": [
        "import MySQLdb\n",
        "db = MySQLdb.connect(host='localhost', user='root', password='rootroot', db='kdt')\n",
        "cur = db.cursor()\n",
        "\n",
        "while True:\n",
        "    try:\n",
        "        userid = input('아이디를 입력하세요: ')\n",
        "        userpw = input('비밀번호를 입력하세요: ')\n",
        "        sql = 'select * from member where userid = %s and userpw = %s'\n",
        "        cur.execute(sql, (userid, userpw))\n",
        "        user = cur.fetchone()\n",
        "\n",
        "        if user:\n",
        "            print(f\"{user[2]}님, 로그인\")\n",
        "            break\n",
        "        else:\n",
        "            print('아이디나 비번 확인하셈 싯팔아')\n",
        "\n",
        "    except MySQLdb.Error as e:\n",
        "        print(f\"데이터베이스 오류: {e}\")\n",
        "    except Exception as e:\n",
        "        print(f\"오류 발생: {e}\")\n",
        "\n",
        "\n",
        "cur.close()\n",
        "db.close()"
      ]
    }
  ],
  "metadata": {
    "kernelspec": {
      "display_name": "Python 3 (ipykernel)",
      "language": "python",
      "name": "python3"
    },
    "language_info": {
      "codemirror_mode": {
        "name": "ipython",
        "version": 3
      },
      "file_extension": ".py",
      "mimetype": "text/x-python",
      "name": "python",
      "nbconvert_exporter": "python",
      "pygments_lexer": "ipython3",
      "version": "3.10.7"
    },
    "colab": {
      "provenance": [],
      "include_colab_link": true
    }
  },
  "nbformat": 4,
  "nbformat_minor": 5
}