{
  "nbformat": 4,
  "nbformat_minor": 0,
  "metadata": {
    "colab": {
      "provenance": [],
      "authorship_tag": "ABX9TyOgpEc+i5/65PO1MiImQdj8",
      "include_colab_link": true
    },
    "kernelspec": {
      "name": "python3",
      "display_name": "Python 3"
    },
    "language_info": {
      "name": "python"
    }
  },
  "cells": [
    {
      "cell_type": "markdown",
      "metadata": {
        "id": "view-in-github",
        "colab_type": "text"
      },
      "source": [
        "<a href=\"https://colab.research.google.com/github/codem1ng2/python/blob/main/%EB%A1%9C%EB%98%90%EA%B3%BC%EC%A0%9C.ipynb\" target=\"_parent\"><img src=\"https://colab.research.google.com/assets/colab-badge.svg\" alt=\"Open In Colab\"/></a>"
      ]
    },
    {
      "cell_type": "markdown",
      "source": [
        "### 과제2\n",
        "로또예측 프로그램을 맹그르보자\n",
        "* 1~45까지 임의의 수를 6개 출력\n",
        "* 적은 수가 앞으로 오도록 오름차순 출력\n",
        "* 단, 중복된 숫자 ㄴㄴㄴㄴㄴㄴ"
      ],
      "metadata": {
        "id": "E3NEemSqamcO"
      }
    },
    {
      "cell_type": "code",
      "source": [
        "import random\n",
        "\n",
        "class Lotto:\n",
        "    wantLotto = input('로또번호 주까예? (y/n):')\n",
        "\n",
        "    if wantLotto == 'y':\n",
        "        print('이대로만 사 봐유~')\n",
        "\n",
        "        numSet = [] # 난수들이 담길 리스트를 초기화 해준 상태\n",
        "\n",
        "        while True:\n",
        "            if len(numSet) == 6: # 만약 numSet의 길이가 6이면 반복문을 종료\n",
        "                break\n",
        "            else: # 그렇지 않다면 반복문 반복\n",
        "                numSet = []\n",
        "                for num in range(6):\n",
        "                    randomNum = random.randint(1, 45) # 1~45 사이의 난수를 뽑아 randomNum변수에 담음\n",
        "                    numSet.append(randomNum) # 무작위로 뽑혀서 randomNum에 담긴 난수가 numSet의 마지막에 요소 추가 됨.\n",
        "                numSet = list(set(numSet))\n",
        "        numSet.sort() # numSet에 담긴 숫자들을 오름차순으로 정렬해준다\n",
        "        print(numSet) # 최종적으로 담긴 번호들을 출력 해준다\n",
        "    else:\n",
        "        print(\" 일확천금의 기회를 포기하시네,,? \")"
      ],
      "metadata": {
        "colab": {
          "base_uri": "https://localhost:8080/"
        },
        "id": "p0MQTGrPbs7l",
        "outputId": "5c7a6600-8bb2-4e9a-80e9-878959266c37"
      },
      "execution_count": null,
      "outputs": [
        {
          "output_type": "stream",
          "name": "stdout",
          "text": [
            "로또번호 주까예? (y/n):y\n",
            "이대로만 사 봐유~\n",
            "[6, 10, 11, 19, 22, 34]\n"
          ]
        }
      ]
    }
  ]
}